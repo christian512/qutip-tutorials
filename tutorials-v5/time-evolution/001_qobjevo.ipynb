{
 "cells": [
  {
   "cell_type": "markdown",
   "id": "7b395cf9",
   "metadata": {},
   "source": [
    "# <code>QobjEvo</code>: time-dependent quantum objects\n",
    "Made by Eric Giguere, updated by Jake Lishman"
   ]
  },
  {
   "cell_type": "code",
   "execution_count": 1,
   "id": "48ca10c5",
   "metadata": {
    "execution": {
     "iopub.execute_input": "2022-08-26T13:34:56.765397Z",
     "iopub.status.busy": "2022-08-26T13:34:56.765167Z",
     "iopub.status.idle": "2022-08-26T13:34:57.760138Z",
     "shell.execute_reply": "2022-08-26T13:34:57.759179Z"
    }
   },
   "outputs": [],
   "source": [
    "# Basic setup\n",
    "import numpy as np\n",
    "import qutip\n",
    "\n",
    "size = 4\n",
    "t = 1.0\n",
    "a = qutip.destroy(size)\n",
    "ad = qutip.create(size)\n",
    "n = qutip.num(size)\n",
    "Id = qutip.qeye(size)"
   ]
  },
  {
   "cell_type": "markdown",
   "id": "6a237a45",
   "metadata": {},
   "source": [
    "## Contents\n",
    "\n",
    "- [Motivation](#Motivation)\n",
    "- [Instantiation](#Instantiation)\n",
    "    * [Functional time dependence](#Function-time-dependence)\n",
    "    * [String time dependence](#String-time-dependence)\n",
    "    * [Array dependence](#Array-dependence)\n",
    "- [Evaluation](#Evaluation)\n",
    "- [Compilation](#Compilation)\n",
    "- [Arguments](#Arguments)\n",
    "    * [Function form](#Function-form)\n",
    "    * [String form](#String-form)\n",
    "    * [Using objects](#Using-objects)\n",
    "    * [Dynamic arguments](#Dynamic-arguments)\n",
    "- [Mathematics](#Mathematics)\n",
    "- [Superoperators](#Superoperators)"
   ]
  },
  {
   "cell_type": "markdown",
   "id": "f346c7e1",
   "metadata": {},
   "source": [
    "## Motivation\n",
    "A `Qobj` is a generic quantum object, but it only represents constant objects.  When we need to represent time-dependent objects, the relevant functions take a list of `(Qobj, <time-dependence>)` tuples, where the time dependence is a function, a string or an array.  Inside the function, this is then converted into a new, time-dependent class `QobjEvo`.  We then use this for several compilation and optimisation steps to ensure that the solvers run quickly.\n",
    "\n",
    "You do not _need_ to use `QobjEvo`, but if you are planning to reuse some large operators for a long-running integration, you can instantiate one yourself and manually call the C compilation methods.  This will have a one-off start-up cost of a couple of seconds, but will make all uses of it faster afterwards.  This trade-off is often worthwhile if the integration will take over around 15 minutes, even if you do not reuse the object."
   ]
  },
  {
   "cell_type": "markdown",
   "id": "eb7fef42",
   "metadata": {},
   "source": [
    "## Instantiation\n",
    "\n",
    "`QobjEvo` is instantiated with the same time-dependent list that is passed to, say, `mesolve`.  This doesn't even _have_ to be time dependent, but constant ones will not have significant benefits over varying ones.  The three types of scalar time dependence are:\n",
    "  - function\n",
    "  - string\n",
    "  - array\n",
    "\n",
    "This can represent objects of the form\n",
    "$$\n",
    "A(t) = \\sum_k f_k(t) A_k\n",
    "$$\n",
    "where the $f_k(t)$ are time-dependent scalars, and the $A_k$ are constant `Qobj` objects.  The list then looks like\n",
    "```\n",
    "[A0, [A1, f1], [A2, f2], ...]\n",
    "```\n",
    "where all the `Ak` are constant `Qobj`s, and the `fk` are time dependences in one of the available forms.\n",
    "\n",
    "It is not recommended to mix formats within one `QobjEvo`, as the available optimisations will typically be reduced."
   ]
  },
  {
   "cell_type": "code",
   "execution_count": 2,
   "id": "fb20f64d",
   "metadata": {
    "execution": {
     "iopub.execute_input": "2022-08-26T13:34:57.763768Z",
     "iopub.status.busy": "2022-08-26T13:34:57.763333Z",
     "iopub.status.idle": "2022-08-26T13:34:57.768012Z",
     "shell.execute_reply": "2022-08-26T13:34:57.767391Z"
    }
   },
   "outputs": [],
   "source": [
    "constant_form = qutip.QobjEvo([n])"
   ]
  },
  {
   "cell_type": "markdown",
   "id": "70b1f1de",
   "metadata": {},
   "source": [
    "### Function time dependence\n",
    "\n",
    "This should be a valid Python function with the signature\n",
    "```python\n",
    "(t: float, args: dict) -> complex\n",
    "```\n",
    "where `t` is the time, `args` is a dictionary containing arguments which you can change without needing a new `QobjEvo`, and the return value is the complex value of $f_k$.  We'll look more at `args` later."
   ]
  },
  {
   "cell_type": "code",
   "execution_count": 3,
   "id": "45160bd6",
   "metadata": {
    "execution": {
     "iopub.execute_input": "2022-08-26T13:34:57.770337Z",
     "iopub.status.busy": "2022-08-26T13:34:57.770129Z",
     "iopub.status.idle": "2022-08-26T13:34:57.773442Z",
     "shell.execute_reply": "2022-08-26T13:34:57.772826Z"
    }
   },
   "outputs": [],
   "source": [
    "def cos_t(t, args):\n",
    "    return np.cos(t)\n",
    "\n",
    "\n",
    "function_form = qutip.QobjEvo([n, [a + ad, cos_t]])"
   ]
  },
  {
   "cell_type": "markdown",
   "id": "b65871cd",
   "metadata": {},
   "source": [
    "If you need something more complex, such as a state with memory or to build a parametrised set of functions where the arguments will not change once set, you can use a class which implements `__call__`."
   ]
  },
  {
   "cell_type": "code",
   "execution_count": 4,
   "id": "58625ead",
   "metadata": {
    "execution": {
     "iopub.execute_input": "2022-08-26T13:34:57.775724Z",
     "iopub.status.busy": "2022-08-26T13:34:57.775523Z",
     "iopub.status.idle": "2022-08-26T13:34:57.779130Z",
     "shell.execute_reply": "2022-08-26T13:34:57.778532Z"
    }
   },
   "outputs": [],
   "source": [
    "class callable_time_dependence:\n",
    "    def __init__(self, add):\n",
    "        self.add = add\n",
    "\n",
    "    def __call__(self, t, args):\n",
    "        return self.add + np.cos(t)\n",
    "\n",
    "\n",
    "callable_form = qutip.QobjEvo([n, [a + ad, callable_time_dependence(2)]])"
   ]
  },
  {
   "cell_type": "markdown",
   "id": "eea4f35d",
   "metadata": {},
   "source": [
    "### String time dependence\n",
    "\n",
    "This should be a valid single Python expression that evaluates to a `complex`.  Roughly, if you could do `eval(x)` and get a valid `complex`, you will be fine.  In addition to `t` being the time, the following symbols are also defined in scope with their usual definitions:\n",
    "```\n",
    "sin  cos  tan   asin  acos  atan\n",
    "sinh cosh tanh  asinh acosh atanh  \n",
    "exp  log  log10 erf   zerf  sqrt  \n",
    "real imag conj  abs   norm  arg\n",
    "proj pi\n",
    "```\n",
    "In addition, `np` refers to `numpy` and `spe` to `scipy.special`."
   ]
  },
  {
   "cell_type": "code",
   "execution_count": 5,
   "id": "5d2b1ea2",
   "metadata": {
    "execution": {
     "iopub.execute_input": "2022-08-26T13:34:57.781512Z",
     "iopub.status.busy": "2022-08-26T13:34:57.781314Z",
     "iopub.status.idle": "2022-08-26T13:34:57.784208Z",
     "shell.execute_reply": "2022-08-26T13:34:57.783603Z"
    }
   },
   "outputs": [],
   "source": [
    "string_form = qutip.QobjEvo([n, [a + ad, \"cos(t)\"]])"
   ]
  },
  {
   "cell_type": "markdown",
   "id": "eef665c3",
   "metadata": {},
   "source": [
    "### Array dependence\n",
    "\n",
    "If the time dependence is particularly costly to compute, you may pass an array containing the value of the functions evaluated at different times, and separately pass the corresponding list of times to the `tlist` keyword argument of the `QobjEvo` constructor.  All times inbetween will be interpolated with cubic splines.\n",
    "\n",
    "The times in `tlist` must be sorted, but they don't need to be evenly distributed.  If you use this for more than one entry, all entries must have the same values for `tlist` (you can only pass one)."
   ]
  },
  {
   "cell_type": "code",
   "execution_count": 6,
   "id": "e5e7e407",
   "metadata": {
    "execution": {
     "iopub.execute_input": "2022-08-26T13:34:57.786537Z",
     "iopub.status.busy": "2022-08-26T13:34:57.786336Z",
     "iopub.status.idle": "2022-08-26T13:34:57.790527Z",
     "shell.execute_reply": "2022-08-26T13:34:57.789955Z"
    }
   },
   "outputs": [],
   "source": [
    "tlist = np.linspace(0, 10, 101)\n",
    "values = np.cos(tlist)\n",
    "array_form = qutip.QobjEvo([n, [a + ad, values]], tlist=tlist)"
   ]
  },
  {
   "cell_type": "markdown",
   "id": "cc8479e8",
   "metadata": {},
   "source": [
    "## Evaluation\n",
    "\n",
    "No matter what type of time dependence was used, or even if only a constant was created, you can always call your `QobjEvo` instance like a function to get the value at that time.  This will return a `Qobj`."
   ]
  },
  {
   "cell_type": "code",
   "execution_count": 7,
   "id": "122fb748",
   "metadata": {
    "execution": {
     "iopub.execute_input": "2022-08-26T13:34:57.792743Z",
     "iopub.status.busy": "2022-08-26T13:34:57.792543Z",
     "iopub.status.idle": "2022-08-26T13:34:57.801078Z",
     "shell.execute_reply": "2022-08-26T13:34:57.800473Z"
    }
   },
   "outputs": [
    {
     "data": {
      "text/latex": [
       "Quantum object: dims=[[4], [4]], shape=(4, 4), type='oper', isherm=True\\begin{equation*}\\left(\\begin{array}{*{11}c}0 & 0 & 0 & 0\\\\0 & 1 & 0 & 0\\\\0 & 0 & 2 & 0\\\\0 & 0 & 0 & 3\\end{array}\\right)\\end{equation*}"
      ],
      "text/plain": [
       "Quantum object: dims=[[4], [4]], shape=(4, 4), type='oper', isherm=True\n",
       "Qobj data =\n",
       "[[0. 0. 0. 0.]\n",
       " [0. 1. 0. 0.]\n",
       " [0. 0. 2. 0.]\n",
       " [0. 0. 0. 3.]]"
      ]
     },
     "execution_count": 7,
     "metadata": {},
     "output_type": "execute_result"
    }
   ],
   "source": [
    "constant_form(2)"
   ]
  },
  {
   "cell_type": "code",
   "execution_count": 8,
   "id": "ad0ac94e",
   "metadata": {
    "execution": {
     "iopub.execute_input": "2022-08-26T13:34:57.803899Z",
     "iopub.status.busy": "2022-08-26T13:34:57.803510Z",
     "iopub.status.idle": "2022-08-26T13:34:57.807739Z",
     "shell.execute_reply": "2022-08-26T13:34:57.807154Z"
    }
   },
   "outputs": [
    {
     "data": {
      "text/latex": [
       "Quantum object: dims=[[4], [4]], shape=(4, 4), type='oper', isherm=True\\begin{equation*}\\left(\\begin{array}{*{11}c}0 & -0.416 & 0 & 0\\\\-0.416 & 1 & -0.589 & 0\\\\0 & -0.589 & 2 & -0.721\\\\0 & 0 & -0.721 & 3\\end{array}\\right)\\end{equation*}"
      ],
      "text/plain": [
       "Quantum object: dims=[[4], [4]], shape=(4, 4), type='oper', isherm=True\n",
       "Qobj data =\n",
       "[[ 0.         -0.41614684  0.          0.        ]\n",
       " [-0.41614684  1.         -0.5885205   0.        ]\n",
       " [ 0.         -0.5885205   2.         -0.72078746]\n",
       " [ 0.          0.         -0.72078746  3.        ]]"
      ]
     },
     "execution_count": 8,
     "metadata": {},
     "output_type": "execute_result"
    }
   ],
   "source": [
    "function_form(2)"
   ]
  },
  {
   "cell_type": "code",
   "execution_count": 9,
   "id": "d3c670f5",
   "metadata": {
    "execution": {
     "iopub.execute_input": "2022-08-26T13:34:57.810687Z",
     "iopub.status.busy": "2022-08-26T13:34:57.810368Z",
     "iopub.status.idle": "2022-08-26T13:34:57.814657Z",
     "shell.execute_reply": "2022-08-26T13:34:57.814077Z"
    }
   },
   "outputs": [
    {
     "data": {
      "text/latex": [
       "Quantum object: dims=[[4], [4]], shape=(4, 4), type='oper', isherm=True\\begin{equation*}\\left(\\begin{array}{*{11}c}0 & 1.584 & 0 & 0\\\\1.584 & 1 & 2.240 & 0\\\\0 & 2.240 & 2 & 2.743\\\\0 & 0 & 2.743 & 3\\end{array}\\right)\\end{equation*}"
      ],
      "text/plain": [
       "Quantum object: dims=[[4], [4]], shape=(4, 4), type='oper', isherm=True\n",
       "Qobj data =\n",
       "[[0.         1.58385316 0.         0.        ]\n",
       " [1.58385316 1.         2.23990662 0.        ]\n",
       " [0.         2.23990662 2.         2.74331415]\n",
       " [0.         0.         2.74331415 3.        ]]"
      ]
     },
     "execution_count": 9,
     "metadata": {},
     "output_type": "execute_result"
    }
   ],
   "source": [
    "callable_form(2)"
   ]
  },
  {
   "cell_type": "code",
   "execution_count": 10,
   "id": "cbef9acd",
   "metadata": {
    "execution": {
     "iopub.execute_input": "2022-08-26T13:34:57.817533Z",
     "iopub.status.busy": "2022-08-26T13:34:57.817146Z",
     "iopub.status.idle": "2022-08-26T13:34:57.822097Z",
     "shell.execute_reply": "2022-08-26T13:34:57.820697Z"
    }
   },
   "outputs": [
    {
     "data": {
      "text/latex": [
       "Quantum object: dims=[[4], [4]], shape=(4, 4), type='oper', isherm=True\\begin{equation*}\\left(\\begin{array}{*{11}c}0 & -0.416 & 0 & 0\\\\-0.416 & 1 & -0.589 & 0\\\\0 & -0.589 & 2 & -0.721\\\\0 & 0 & -0.721 & 3\\end{array}\\right)\\end{equation*}"
      ],
      "text/plain": [
       "Quantum object: dims=[[4], [4]], shape=(4, 4), type='oper', isherm=True\n",
       "Qobj data =\n",
       "[[ 0.         -0.41614684  0.          0.        ]\n",
       " [-0.41614684  1.         -0.5885205   0.        ]\n",
       " [ 0.         -0.5885205   2.         -0.72078746]\n",
       " [ 0.          0.         -0.72078746  3.        ]]"
      ]
     },
     "execution_count": 10,
     "metadata": {},
     "output_type": "execute_result"
    }
   ],
   "source": [
    "string_form(2)"
   ]
  },
  {
   "cell_type": "code",
   "execution_count": 11,
   "id": "abf495ff",
   "metadata": {
    "execution": {
     "iopub.execute_input": "2022-08-26T13:34:57.824842Z",
     "iopub.status.busy": "2022-08-26T13:34:57.824350Z",
     "iopub.status.idle": "2022-08-26T13:34:57.830916Z",
     "shell.execute_reply": "2022-08-26T13:34:57.829432Z"
    },
    "lines_to_next_cell": 2
   },
   "outputs": [
    {
     "data": {
      "text/latex": [
       "Quantum object: dims=[[4], [4]], shape=(4, 4), type='oper', isherm=True\\begin{equation*}\\left(\\begin{array}{*{11}c}0 & -0.416 & 0 & 0\\\\-0.416 & 1 & -0.589 & 0\\\\0 & -0.589 & 2 & -0.721\\\\0 & 0 & -0.721 & 3\\end{array}\\right)\\end{equation*}"
      ],
      "text/plain": [
       "Quantum object: dims=[[4], [4]], shape=(4, 4), type='oper', isherm=True\n",
       "Qobj data =\n",
       "[[ 0.         -0.41614684  0.          0.        ]\n",
       " [-0.41614684  1.         -0.5885205   0.        ]\n",
       " [ 0.         -0.5885205   2.         -0.72078746]\n",
       " [ 0.          0.         -0.72078746  3.        ]]"
      ]
     },
     "execution_count": 11,
     "metadata": {},
     "output_type": "execute_result"
    }
   ],
   "source": [
    "array_form(2)"
   ]
  },
  {
   "cell_type": "code",
   "execution_count": 12,
   "id": "600a1b31",
   "metadata": {
    "execution": {
     "iopub.execute_input": "2022-08-26T13:34:57.833470Z",
     "iopub.status.busy": "2022-08-26T13:34:57.833144Z",
     "iopub.status.idle": "2022-08-26T13:34:57.839110Z",
     "shell.execute_reply": "2022-08-26T13:34:57.838493Z"
    }
   },
   "outputs": [
    {
     "data": {
      "text/latex": [
       "Quantum object: dims=[[4], [4]], shape=(4, 4), type='oper', isherm=True\\begin{equation*}\\left(\\begin{array}{*{11}c}0 & -0.654 & 0 & 0\\\\-0.654 & 1 & -0.924 & 0\\\\0 & -0.924 & 2 & -1.132\\\\0 & 0 & -1.132 & 3\\end{array}\\right)\\end{equation*}"
      ],
      "text/plain": [
       "Quantum object: dims=[[4], [4]], shape=(4, 4), type='oper', isherm=True\n",
       "Qobj data =\n",
       "[[ 0.         -0.65364362  0.          0.        ]\n",
       " [-0.65364362  1.         -0.92439167  0.        ]\n",
       " [ 0.         -0.92439167  2.         -1.13214396]\n",
       " [ 0.          0.         -1.13214396  3.        ]]"
      ]
     },
     "execution_count": 12,
     "metadata": {},
     "output_type": "execute_result"
    }
   ],
   "source": [
    "string_form(4)"
   ]
  },
  {
   "cell_type": "markdown",
   "id": "1a9df3b7",
   "metadata": {},
   "source": [
    "## Arguments\n",
    "\n",
    "Data can be passed to the coefficient functions or strings using an `args` dictionary.  In the functional form, this is passed as an explicit parameter.  In the string form, `args` acts like additional variable definitions for the scope of the function.  In other words, `'x + 2'` will work and return a value if, for example, `args` is `{'x': 1}`.  \n",
    "The keys of `args` should always be strings representing valid Python identifiers (variable names), and they should not begin with an underscore (\\_).\n",
    "\n",
    "Values _can_ be any type, but if Cython compilation is used with string dependence, there will be a large performance penalty for using anything other than valid C numeric types (including `complex`), `numpy` arrays, or any object that Cython cannot call natively.\n",
    "\n",
    "You can pass `args` directly at instantiation, and these will be used in every call, unless you specifically override them using the `args` keyword argument in the call.  The overriding is temporary, and all subsequent calls will use the values given at initialisation."
   ]
  },
  {
   "cell_type": "markdown",
   "id": "965aed4c",
   "metadata": {},
   "source": [
    "### Function form"
   ]
  },
  {
   "cell_type": "code",
   "execution_count": 13,
   "id": "85219ced",
   "metadata": {
    "execution": {
     "iopub.execute_input": "2022-08-26T13:34:57.841600Z",
     "iopub.status.busy": "2022-08-26T13:34:57.841298Z",
     "iopub.status.idle": "2022-08-26T13:34:57.847285Z",
     "shell.execute_reply": "2022-08-26T13:34:57.846730Z"
    }
   },
   "outputs": [
    {
     "data": {
      "text/latex": [
       "Quantum object: dims=[[4], [4]], shape=(4, 4), type='oper', isherm=True\\begin{equation*}\\left(\\begin{array}{*{11}c}3 & 0 & 0 & 0\\\\0 & 3 & 0 & 0\\\\0 & 0 & 3 & 0\\\\0 & 0 & 0 & 3\\end{array}\\right)\\end{equation*}"
      ],
      "text/plain": [
       "Quantum object: dims=[[4], [4]], shape=(4, 4), type='oper', isherm=True\n",
       "Qobj data =\n",
       "[[3. 0. 0. 0.]\n",
       " [0. 3. 0. 0.]\n",
       " [0. 0. 3. 0.]\n",
       " [0. 0. 0. 3.]]"
      ]
     },
     "execution_count": 13,
     "metadata": {},
     "output_type": "execute_result"
    }
   ],
   "source": [
    "def coeff_with_args(t, args):\n",
    "    return t + args[\"delta\"]\n",
    "\n",
    "\n",
    "td_args = qutip.QobjEvo([Id, coeff_with_args], args={\"delta\": 1.0})\n",
    "td_args(2)"
   ]
  },
  {
   "cell_type": "code",
   "execution_count": 14,
   "id": "f02bdc8d",
   "metadata": {
    "execution": {
     "iopub.execute_input": "2022-08-26T13:34:57.849397Z",
     "iopub.status.busy": "2022-08-26T13:34:57.849202Z",
     "iopub.status.idle": "2022-08-26T13:34:57.855304Z",
     "shell.execute_reply": "2022-08-26T13:34:57.854635Z"
    }
   },
   "outputs": [
    {
     "data": {
      "text/latex": [
       "Quantum object: dims=[[4], [4]], shape=(4, 4), type='oper', isherm=True\\begin{equation*}\\left(\\begin{array}{*{11}c}3 & 0 & 0 & 0\\\\0 & 3 & 0 & 0\\\\0 & 0 & 3 & 0\\\\0 & 0 & 0 & 3\\end{array}\\right)\\end{equation*}"
      ],
      "text/plain": [
       "Quantum object: dims=[[4], [4]], shape=(4, 4), type='oper', isherm=True\n",
       "Qobj data =\n",
       "[[3. 0. 0. 0.]\n",
       " [0. 3. 0. 0.]\n",
       " [0. 0. 3. 0.]\n",
       " [0. 0. 0. 3.]]"
      ]
     },
     "execution_count": 14,
     "metadata": {},
     "output_type": "execute_result"
    }
   ],
   "source": [
    "# Temporarily overriding the arguments.\n",
    "td_args(2, args={\"delta\": 10})"
   ]
  },
  {
   "cell_type": "code",
   "execution_count": 15,
   "id": "b672aed3",
   "metadata": {
    "execution": {
     "iopub.execute_input": "2022-08-26T13:34:57.857568Z",
     "iopub.status.busy": "2022-08-26T13:34:57.857250Z",
     "iopub.status.idle": "2022-08-26T13:34:57.861504Z",
     "shell.execute_reply": "2022-08-26T13:34:57.860901Z"
    }
   },
   "outputs": [
    {
     "data": {
      "text/latex": [
       "Quantum object: dims=[[4], [4]], shape=(4, 4), type='oper', isherm=True\\begin{equation*}\\left(\\begin{array}{*{11}c}3 & 0 & 0 & 0\\\\0 & 3 & 0 & 0\\\\0 & 0 & 3 & 0\\\\0 & 0 & 0 & 3\\end{array}\\right)\\end{equation*}"
      ],
      "text/plain": [
       "Quantum object: dims=[[4], [4]], shape=(4, 4), type='oper', isherm=True\n",
       "Qobj data =\n",
       "[[3. 0. 0. 0.]\n",
       " [0. 3. 0. 0.]\n",
       " [0. 0. 3. 0.]\n",
       " [0. 0. 0. 3.]]"
      ]
     },
     "execution_count": 15,
     "metadata": {},
     "output_type": "execute_result"
    }
   ],
   "source": [
    "# A subsequent regular call will still use the args given at initialisation.\n",
    "td_args(2)"
   ]
  },
  {
   "cell_type": "markdown",
   "id": "8abcb89a",
   "metadata": {},
   "source": [
    "### String form"
   ]
  },
  {
   "cell_type": "code",
   "execution_count": 16,
   "id": "69e267b3",
   "metadata": {
    "execution": {
     "iopub.execute_input": "2022-08-26T13:34:57.864188Z",
     "iopub.status.busy": "2022-08-26T13:34:57.863989Z",
     "iopub.status.idle": "2022-08-26T13:34:57.868338Z",
     "shell.execute_reply": "2022-08-26T13:34:57.867768Z"
    }
   },
   "outputs": [
    {
     "data": {
      "text/latex": [
       "Quantum object: dims=[[4], [4]], shape=(4, 4), type='oper', isherm=True\\begin{equation*}\\left(\\begin{array}{*{11}c}3 & 0 & 0 & 0\\\\0 & 3 & 0 & 0\\\\0 & 0 & 3 & 0\\\\0 & 0 & 0 & 3\\end{array}\\right)\\end{equation*}"
      ],
      "text/plain": [
       "Quantum object: dims=[[4], [4]], shape=(4, 4), type='oper', isherm=True\n",
       "Qobj data =\n",
       "[[3. 0. 0. 0.]\n",
       " [0. 3. 0. 0.]\n",
       " [0. 0. 3. 0.]\n",
       " [0. 0. 0. 3.]]"
      ]
     },
     "execution_count": 16,
     "metadata": {},
     "output_type": "execute_result"
    }
   ],
   "source": [
    "td_args_str = qutip.QobjEvo([Id, \"t + delta\"], args={\"delta\": 1.0})\n",
    "td_args_str(2)"
   ]
  },
  {
   "cell_type": "code",
   "execution_count": 17,
   "id": "227c52b9",
   "metadata": {
    "execution": {
     "iopub.execute_input": "2022-08-26T13:34:57.871097Z",
     "iopub.status.busy": "2022-08-26T13:34:57.870772Z",
     "iopub.status.idle": "2022-08-26T13:34:57.875215Z",
     "shell.execute_reply": "2022-08-26T13:34:57.874650Z"
    }
   },
   "outputs": [
    {
     "data": {
      "text/latex": [
       "Quantum object: dims=[[4], [4]], shape=(4, 4), type='oper', isherm=True\\begin{equation*}\\left(\\begin{array}{*{11}c}3 & 0 & 0 & 0\\\\0 & 3 & 0 & 0\\\\0 & 0 & 3 & 0\\\\0 & 0 & 0 & 3\\end{array}\\right)\\end{equation*}"
      ],
      "text/plain": [
       "Quantum object: dims=[[4], [4]], shape=(4, 4), type='oper', isherm=True\n",
       "Qobj data =\n",
       "[[3. 0. 0. 0.]\n",
       " [0. 3. 0. 0.]\n",
       " [0. 0. 3. 0.]\n",
       " [0. 0. 0. 3.]]"
      ]
     },
     "execution_count": 17,
     "metadata": {},
     "output_type": "execute_result"
    }
   ],
   "source": [
    "td_args_str(2, args={\"delta\": 10})"
   ]
  },
  {
   "cell_type": "markdown",
   "id": "7f09aa33",
   "metadata": {},
   "source": [
    "### Using objects\n",
    "\n",
    "The argument value need not just be a number. Even strings can accept functions which Cython can call natively, such as the core `numpy` functions."
   ]
  },
  {
   "cell_type": "code",
   "execution_count": 18,
   "id": "b4eac336",
   "metadata": {
    "execution": {
     "iopub.execute_input": "2022-08-26T13:34:57.878149Z",
     "iopub.status.busy": "2022-08-26T13:34:57.877619Z",
     "iopub.status.idle": "2022-08-26T13:34:57.883545Z",
     "shell.execute_reply": "2022-08-26T13:34:57.882801Z"
    }
   },
   "outputs": [
    {
     "data": {
      "text/latex": [
       "Quantum object: dims=[[4], [4]], shape=(4, 4), type='oper', isherm=True\\begin{equation*}\\left(\\begin{array}{*{11}c}1 & 0 & 0 & 0\\\\0 & 1 & 0 & 0\\\\0 & 0 & 1 & 0\\\\0 & 0 & 0 & 1\\end{array}\\right)\\end{equation*}"
      ],
      "text/plain": [
       "Quantum object: dims=[[4], [4]], shape=(4, 4), type='oper', isherm=True\n",
       "Qobj data =\n",
       "[[1. 0. 0. 0.]\n",
       " [0. 1. 0. 0.]\n",
       " [0. 0. 1. 0.]\n",
       " [0. 0. 0. 1.]]"
      ]
     },
     "execution_count": 18,
     "metadata": {},
     "output_type": "execute_result"
    }
   ],
   "source": [
    "td_args_str = qutip.QobjEvo([Id, \"f(t)\"], args={\"f\": np.cos})\n",
    "td_args_str(0.0)"
   ]
  },
  {
   "cell_type": "code",
   "execution_count": 19,
   "id": "42c522ef",
   "metadata": {
    "execution": {
     "iopub.execute_input": "2022-08-26T13:34:57.886037Z",
     "iopub.status.busy": "2022-08-26T13:34:57.885507Z",
     "iopub.status.idle": "2022-08-26T13:34:57.889781Z",
     "shell.execute_reply": "2022-08-26T13:34:57.889187Z"
    }
   },
   "outputs": [
    {
     "data": {
      "text/latex": [
       "Quantum object: dims=[[4], [4]], shape=(4, 4), type='oper', isherm=True\\begin{equation*}\\left(\\begin{array}{*{11}c}-1 & 0 & 0 & 0\\\\0 & -1 & 0 & 0\\\\0 & 0 & -1 & 0\\\\0 & 0 & 0 & -1\\end{array}\\right)\\end{equation*}"
      ],
      "text/plain": [
       "Quantum object: dims=[[4], [4]], shape=(4, 4), type='oper', isherm=True\n",
       "Qobj data =\n",
       "[[-1.  0.  0.  0.]\n",
       " [ 0. -1.  0.  0.]\n",
       " [ 0.  0. -1.  0.]\n",
       " [ 0.  0.  0. -1.]]"
      ]
     },
     "execution_count": 19,
     "metadata": {},
     "output_type": "execute_result"
    }
   ],
   "source": [
    "td_args_str(np.pi)"
   ]
  },
  {
   "cell_type": "markdown",
   "id": "1a1ffe37",
   "metadata": {},
   "source": [
    "### Dynamic arguments\n",
    "\n",
    "When `QobjEvo` is used in the solvers, certain dynamic arguments will be populated at each iteration, if and only if their names are present in the `args` dictionary used at `QobjEvo` intialisation.  The initial values of all of these dynamic arguments will be a representation of `0` in the corresponding type, for example `\"state\"` will be `qzero()` of the correct dimensions.\n",
    "\n",
    "There several of these \"magic\" variables, mostly revolving around the state currently being evolved:\n",
    "  - `\"state\"` or `\"state_qobj\"`: a `Qobj` of the current state.\n",
    "  - `\"state_mat\"`: a dense 2D `np.ndarray` of the state as a matrix, similar to `state.full()`\n",
    "  - `\"state_vec\"`: a dense 1D `np.ndarray` of the state as a vector.  This only generally makes sense for kets.\n",
    "  - `\"expect_op_<n>\"`: `complex`, where `<n>` is an index into `e_ops`, the current expectation value of `e_ops[n]` (the `<>` should not appear, e.g. `\"expect_op_0\"`).\n",
    "  - `\"collapse\"`: a `list` of `(t: float, n: int)` indicating the time `t` a collapse occurred, and which of `c_ops` caused it.  Only present when using `mcsolve`.\n"
   ]
  },
  {
   "cell_type": "code",
   "execution_count": 20,
   "id": "0e082665",
   "metadata": {
    "execution": {
     "iopub.execute_input": "2022-08-26T13:34:57.892132Z",
     "iopub.status.busy": "2022-08-26T13:34:57.891816Z",
     "iopub.status.idle": "2022-08-26T13:34:57.897606Z",
     "shell.execute_reply": "2022-08-26T13:34:57.896999Z"
    }
   },
   "outputs": [
    {
     "name": "stdout",
     "output_type": "stream",
     "text": [
      "\"state\":\n",
      "None\n",
      "\"state\":\n",
      "None\n"
     ]
    },
    {
     "data": {
      "text/latex": [
       "Quantum object: dims=[[4], [4]], shape=(4, 4), type='oper', isherm=True\\begin{equation*}\\left(\\begin{array}{*{11}c}0 & 0 & 0 & 0\\\\0 & 0 & 0 & 0\\\\0 & 0 & 0 & 0\\\\0 & 0 & 0 & 0\\end{array}\\right)\\end{equation*}"
      ],
      "text/plain": [
       "Quantum object: dims=[[4], [4]], shape=(4, 4), type='oper', isherm=True\n",
       "Qobj data =\n",
       "[[0. 0. 0. 0.]\n",
       " [0. 0. 0. 0.]\n",
       " [0. 0. 0. 0.]\n",
       " [0. 0. 0. 0.]]"
      ]
     },
     "execution_count": 20,
     "metadata": {},
     "output_type": "execute_result"
    }
   ],
   "source": [
    "args = {\"state\": None}\n",
    "\n",
    "\n",
    "def print_args(t, args):\n",
    "    print(\"\\n\".join(['\"' + key + '\":\\n' + repr(value) for\n",
    "                     key, value in args.items()]))\n",
    "    return t\n",
    "\n",
    "\n",
    "td_args = qutip.QobjEvo([Id, print_args], args=args)\n",
    "td_args(0)"
   ]
  },
  {
   "cell_type": "code",
   "execution_count": 21,
   "id": "21dfecf8",
   "metadata": {
    "execution": {
     "iopub.execute_input": "2022-08-26T13:34:57.901082Z",
     "iopub.status.busy": "2022-08-26T13:34:57.900599Z",
     "iopub.status.idle": "2022-08-26T13:34:57.905445Z",
     "shell.execute_reply": "2022-08-26T13:34:57.904842Z"
    }
   },
   "outputs": [
    {
     "name": "stdout",
     "output_type": "stream",
     "text": [
      "\"state\":\n",
      "Quantum object: dims=[[4], [1]], shape=(4, 1), type='ket'\n",
      "Qobj data =\n",
      "[[0.]\n",
      " [0.]\n",
      " [1.]\n",
      " [0.]]\n"
     ]
    },
    {
     "data": {
      "text/latex": [
       "Quantum object: dims=[[4], [4]], shape=(4, 4), type='oper', isherm=True\\begin{equation*}\\left(\\begin{array}{*{11}c}0 & 0 & 0 & 0\\\\0 & 0 & 0 & 0\\\\0 & 0 & 0 & 0\\\\0 & 0 & 0 & 0\\end{array}\\right)\\end{equation*}"
      ],
      "text/plain": [
       "Quantum object: dims=[[4], [4]], shape=(4, 4), type='oper', isherm=True\n",
       "Qobj data =\n",
       "[[0. 0. 0. 0.]\n",
       " [0. 0. 0. 0.]\n",
       " [0. 0. 0. 0.]\n",
       " [0. 0. 0. 0.]]"
      ]
     },
     "execution_count": 21,
     "metadata": {},
     "output_type": "execute_result"
    }
   ],
   "source": [
    "# The `state` keyword argument is typically unused.\n",
    "# Here it just simulates being inside a solver at a particular state.\n",
    "td_args(0, state=qutip.basis(4, 2))"
   ]
  },
  {
   "cell_type": "markdown",
   "id": "d61c7d0e",
   "metadata": {},
   "source": [
    "## Mathematics\n",
    "\n",
    "`QobjEvo` supports the basic mathematical operations which make sense for time-dependent quantum objects:\n",
    "  - addition of `QobjEvo` and `Qobj`\n",
    "  - subtraction of `QobjEvo` and `Qobj`\n",
    "  - product with `QobjEvo`, `Qobj` or scalars\n",
    "  - division by a scalar\n",
    "  - negation: `-x`\n",
    "  - conjugation: `QobjEvo.conj()`\n",
    "  - adjoint (dagger): `QobjEvo.dag()`\n",
    "  - transpose: `QobjEvo.trans`"
   ]
  },
  {
   "cell_type": "code",
   "execution_count": 22,
   "id": "6cd75db2",
   "metadata": {
    "execution": {
     "iopub.execute_input": "2022-08-26T13:34:57.908781Z",
     "iopub.status.busy": "2022-08-26T13:34:57.908395Z",
     "iopub.status.idle": "2022-08-26T13:34:57.912683Z",
     "shell.execute_reply": "2022-08-26T13:34:57.912093Z"
    }
   },
   "outputs": [
    {
     "data": {
      "text/latex": [
       "Quantum object: dims=[[4], [4]], shape=(4, 4), type='oper', isherm=True\\begin{equation*}\\left(\\begin{array}{*{11}c}0 & 2 & 0 & 0\\\\2 & 2 & 2.828 & 0\\\\0 & 2.828 & 4 & 3.464\\\\0 & 0 & 3.464 & 6\\end{array}\\right)\\end{equation*}"
      ],
      "text/plain": [
       "Quantum object: dims=[[4], [4]], shape=(4, 4), type='oper', isherm=True\n",
       "Qobj data =\n",
       "[[0.         2.         0.         0.        ]\n",
       " [2.         2.         2.82842712 0.        ]\n",
       " [0.         2.82842712 4.         3.46410162]\n",
       " [0.         0.         3.46410162 6.        ]]"
      ]
     },
     "execution_count": 22,
     "metadata": {},
     "output_type": "execute_result"
    }
   ],
   "source": [
    "(array_form * 2)(0)"
   ]
  },
  {
   "cell_type": "code",
   "execution_count": 23,
   "id": "07637ba2",
   "metadata": {
    "execution": {
     "iopub.execute_input": "2022-08-26T13:34:57.915674Z",
     "iopub.status.busy": "2022-08-26T13:34:57.915118Z",
     "iopub.status.idle": "2022-08-26T13:34:57.919578Z",
     "shell.execute_reply": "2022-08-26T13:34:57.918993Z"
    }
   },
   "outputs": [
    {
     "data": {
      "text/latex": [
       "Quantum object: dims=[[4], [4]], shape=(4, 4), type='oper', isherm=False\\begin{equation*}\\left(\\begin{array}{*{11}c}1 & 2 & 0 & 0\\\\1 & 2 & 2.828 & 0\\\\0 & 1.414 & 3 & 3.464\\\\0 & 0 & 1.732 & 4\\end{array}\\right)\\end{equation*}"
      ],
      "text/plain": [
       "Quantum object: dims=[[4], [4]], shape=(4, 4), type='oper', isherm=False\n",
       "Qobj data =\n",
       "[[1.         2.         0.         0.        ]\n",
       " [1.         2.         2.82842712 0.        ]\n",
       " [0.         1.41421356 3.         3.46410162]\n",
       " [0.         0.         1.73205081 4.        ]]"
      ]
     },
     "execution_count": 23,
     "metadata": {},
     "output_type": "execute_result"
    }
   ],
   "source": [
    "(array_form + 1 + a)(0)"
   ]
  },
  {
   "cell_type": "markdown",
   "id": "c3b5a2c8",
   "metadata": {},
   "source": [
    "## Superoperators\n",
    "\n",
    "The functions in `qutip.superoperator` can also be used for `QobjEvo`.  Of particular importance is `liouvillian`, as `mesolve` can take the Liouvillian as its first argument (and will be faster this way), in place of separated Hamiltonians and collapse operators."
   ]
  },
  {
   "cell_type": "code",
   "execution_count": 24,
   "id": "952c93bf",
   "metadata": {
    "execution": {
     "iopub.execute_input": "2022-08-26T13:34:57.921941Z",
     "iopub.status.busy": "2022-08-26T13:34:57.921552Z",
     "iopub.status.idle": "2022-08-26T13:34:57.930169Z",
     "shell.execute_reply": "2022-08-26T13:34:57.929575Z"
    }
   },
   "outputs": [
    {
     "data": {
      "text/latex": [
       "Quantum object: dims=[[[4], [4]], [[4], [4]]], shape=(16, 16), type='super', isherm=False\\begin{equation*}\\left(\\begin{array}{*{11}c}0 & -1j & 0 & 0 & 1j & \\cdots & 0 & 0 & 0 & 0 & 0\\\\-1j & (-0.500-1j) & -1.414j & 0 & 0 & \\cdots & 0 & 0 & 0 & 0 & 0\\\\0 & -1.414j & (-2-2j) & -1.732j & 0 & \\cdots & 0 & 0 & 0 & 0 & 0\\\\0 & 0 & -1.732j & (-4.500-3j) & 0 & \\cdots & 0 & 0 & 0 & 0 & 0\\\\1j & 0 & 0 & 0 & (-0.500+1j) & \\cdots & 0 & 0 & 0 & 0 & 0\\\\\\vdots & \\vdots & \\vdots & \\vdots & \\vdots & \\ddots & \\vdots & \\vdots & \\vdots & \\vdots & \\vdots\\\\0 & 0 & 0 & 0 & 0 & \\cdots & (-0.500-1j) & 0 & 0 & 0 & 1.732j\\\\0 & 0 & 0 & 0 & 0 & \\cdots & 0 & (-4.500+3j) & -1j & 0 & 0\\\\0 & 0 & 0 & 0 & 0 & \\cdots & 0 & -1j & (-2+2j) & -1.414j & 0\\\\0 & 0 & 0 & 0 & 0 & \\cdots & 0 & 0 & -1.414j & (-0.500+1j) & -1.732j\\\\0 & 0 & 0 & 0 & 0 & \\cdots & 1.732j & 0 & 0 & -1.732j & 0\\end{array}\\right)\\end{equation*}"
      ],
      "text/plain": [
       "Quantum object: dims=[[[4], [4]], [[4], [4]]], shape=(16, 16), type='super', isherm=False\n",
       "Qobj data =\n",
       "[[ 0. +0.j          0. -1.j          0. +0.j          0. +0.j\n",
       "   0. +1.j          0. +0.j          0. +0.j          0. +0.j\n",
       "   0. +0.j          0. +0.j          0. +0.j          0. +0.j\n",
       "   0. +0.j          0. +0.j          0. +0.j          0. +0.j        ]\n",
       " [ 0. -1.j         -0.5-1.j          0. -1.41421356j  0. +0.j\n",
       "   0. +0.j          0. +1.j          0. +0.j          0. +0.j\n",
       "   0. +0.j          0. +0.j          0. +0.j          0. +0.j\n",
       "   0. +0.j          0. +0.j          0. +0.j          0. +0.j        ]\n",
       " [ 0. +0.j          0. -1.41421356j -2. -2.j          0. -1.73205081j\n",
       "   0. +0.j          0. +0.j          0. +1.j          0. +0.j\n",
       "   0. +0.j          0. +0.j          0. +0.j          0. +0.j\n",
       "   0. +0.j          0. +0.j          0. +0.j          0. +0.j        ]\n",
       " [ 0. +0.j          0. +0.j          0. -1.73205081j -4.5-3.j\n",
       "   0. +0.j          0. +0.j          0. +0.j          0. +1.j\n",
       "   0. +0.j          0. +0.j          0. +0.j          0. +0.j\n",
       "   0. +0.j          0. +0.j          0. +0.j          0. +0.j        ]\n",
       " [ 0. +1.j          0. +0.j          0. +0.j          0. +0.j\n",
       "  -0.5+1.j          0. -1.j          0. +0.j          0. +0.j\n",
       "   0. +1.41421356j  0. +0.j          0. +0.j          0. +0.j\n",
       "   0. +0.j          0. +0.j          0. +0.j          0. +0.j        ]\n",
       " [ 0. +0.j          0. +1.j          0. +0.j          0. +0.j\n",
       "   0. -1.j          0. +0.j          0. -1.41421356j  0. +0.j\n",
       "   0. +0.j          0. +1.41421356j  0. +0.j          0. +0.j\n",
       "   0. +0.j          0. +0.j          0. +0.j          0. +0.j        ]\n",
       " [ 0. +0.j          0. +0.j          0. +1.j          0. +0.j\n",
       "   0. +0.j          0. -1.41421356j -0.5-1.j          0. -1.73205081j\n",
       "   0. +0.j          0. +0.j          0. +1.41421356j  0. +0.j\n",
       "   0. +0.j          0. +0.j          0. +0.j          0. +0.j        ]\n",
       " [ 0. +0.j          0. +0.j          0. +0.j          0. +1.j\n",
       "   0. +0.j          0. +0.j          0. -1.73205081j -2. -2.j\n",
       "   0. +0.j          0. +0.j          0. +0.j          0. +1.41421356j\n",
       "   0. +0.j          0. +0.j          0. +0.j          0. +0.j        ]\n",
       " [ 0. +0.j          0. +0.j          0. +0.j          0. +0.j\n",
       "   0. +1.41421356j  0. +0.j          0. +0.j          0. +0.j\n",
       "  -2. +2.j          0. -1.j          0. +0.j          0. +0.j\n",
       "   0. +1.73205081j  0. +0.j          0. +0.j          0. +0.j        ]\n",
       " [ 0. +0.j          0. +0.j          0. +0.j          0. +0.j\n",
       "   0. +0.j          0. +1.41421356j  0. +0.j          0. +0.j\n",
       "   0. -1.j         -0.5+1.j          0. -1.41421356j  0. +0.j\n",
       "   0. +0.j          0. +1.73205081j  0. +0.j          0. +0.j        ]\n",
       " [ 0. +0.j          0. +0.j          0. +0.j          0. +0.j\n",
       "   0. +0.j          0. +0.j          0. +1.41421356j  0. +0.j\n",
       "   0. +0.j          0. -1.41421356j  0. +0.j          0. -1.73205081j\n",
       "   0. +0.j          0. +0.j          0. +1.73205081j  0. +0.j        ]\n",
       " [ 0. +0.j          0. +0.j          0. +0.j          0. +0.j\n",
       "   0. +0.j          0. +0.j          0. +0.j          0. +1.41421356j\n",
       "   0. +0.j          0. +0.j          0. -1.73205081j -0.5-1.j\n",
       "   0. +0.j          0. +0.j          0. +0.j          0. +1.73205081j]\n",
       " [ 0. +0.j          0. +0.j          0. +0.j          0. +0.j\n",
       "   0. +0.j          0. +0.j          0. +0.j          0. +0.j\n",
       "   0. +1.73205081j  0. +0.j          0. +0.j          0. +0.j\n",
       "  -4.5+3.j          0. -1.j          0. +0.j          0. +0.j        ]\n",
       " [ 0. +0.j          0. +0.j          0. +0.j          0. +0.j\n",
       "   0. +0.j          0. +0.j          0. +0.j          0. +0.j\n",
       "   0. +0.j          0. +1.73205081j  0. +0.j          0. +0.j\n",
       "   0. -1.j         -2. +2.j          0. -1.41421356j  0. +0.j        ]\n",
       " [ 0. +0.j          0. +0.j          0. +0.j          0. +0.j\n",
       "   0. +0.j          0. +0.j          0. +0.j          0. +0.j\n",
       "   0. +0.j          0. +0.j          0. +1.73205081j  0. +0.j\n",
       "   0. +0.j          0. -1.41421356j -0.5+1.j          0. -1.73205081j]\n",
       " [ 0. +0.j          0. +0.j          0. +0.j          0. +0.j\n",
       "   0. +0.j          0. +0.j          0. +0.j          0. +0.j\n",
       "   0. +0.j          0. +0.j          0. +0.j          0. +1.73205081j\n",
       "   0. +0.j          0. +0.j          0. -1.73205081j  0. +0.j        ]]"
      ]
     },
     "execution_count": 24,
     "metadata": {},
     "output_type": "execute_result"
    }
   ],
   "source": [
    "liouv = qutip.liouvillian(array_form, c_ops=[constant_form])\n",
    "liouv(0)"
   ]
  },
  {
   "cell_type": "markdown",
   "id": "47f3c6e1",
   "metadata": {},
   "source": [
    "## Epilogue"
   ]
  },
  {
   "cell_type": "code",
   "execution_count": 25,
   "id": "a1ce6b8e",
   "metadata": {
    "execution": {
     "iopub.execute_input": "2022-08-26T13:34:57.932912Z",
     "iopub.status.busy": "2022-08-26T13:34:57.932594Z",
     "iopub.status.idle": "2022-08-26T13:34:57.937393Z",
     "shell.execute_reply": "2022-08-26T13:34:57.936695Z"
    }
   },
   "outputs": [
    {
     "name": "stdout",
     "output_type": "stream",
     "text": [
      "\n",
      "QuTiP: Quantum Toolbox in Python\n",
      "================================\n",
      "Copyright (c) QuTiP team 2011 and later.\n",
      "Current admin team: Alexander Pitchford, Nathan Shammah, Shahnawaz Ahmed, Neill Lambert, Eric Giguère, Boxi Li, Jake Lishman and Simon Cross.\n",
      "Board members: Daniel Burgarth, Robert Johansson, Anton F. Kockum, Franco Nori and Will Zeng.\n",
      "Original developers: R. J. Johansson & P. D. Nation.\n",
      "Previous lead developers: Chris Granade & A. Grimsmo.\n",
      "Currently developed through wide collaboration. See https://github.com/qutip for details.\n",
      "\n",
      "QuTiP Version:      5.0.0.dev0+1ede0b8\n",
      "Numpy Version:      1.22.4\n",
      "Scipy Version:      1.8.1\n",
      "Cython Version:     0.29.32\n",
      "Matplotlib Version: 3.5.2\n",
      "Python Version:     3.10.4\n",
      "Number of CPUs:     2\n",
      "BLAS Info:          Generic\n",
      "INTEL MKL Ext:      False\n",
      "Platform Info:      Linux (x86_64)\n",
      "Installation path:  /home/runner/work/qutip-tutorials/qutip-tutorials/qutip/qutip\n",
      "================================================================================\n",
      "Please cite QuTiP in your publication.\n",
      "================================================================================\n",
      "For your convenience a bibtex reference can be easily generated using `qutip.cite()`\n"
     ]
    }
   ],
   "source": [
    "qutip.about()"
   ]
  },
  {
   "cell_type": "code",
   "execution_count": null,
   "id": "d4573e72",
   "metadata": {},
   "outputs": [],
   "source": []
  }
 ],
 "metadata": {
  "jupytext": {
   "cell_metadata_filter": "-all",
   "notebook_metadata_filter": "-jupytext.cell_metadata_filter,-jupytext.notebook_metadata_filter"
  },
  "kernelspec": {
   "display_name": "Python 3 (ipykernel)",
   "language": "python",
   "name": "python3"
  },
  "language_info": {
   "codemirror_mode": {
    "name": "ipython",
    "version": 3
   },
   "file_extension": ".py",
   "mimetype": "text/x-python",
   "name": "python",
   "nbconvert_exporter": "python",
   "pygments_lexer": "ipython3",
   "version": "3.10.4"
  }
 },
 "nbformat": 4,
 "nbformat_minor": 5
}
