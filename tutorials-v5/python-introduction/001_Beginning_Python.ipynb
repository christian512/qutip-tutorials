{
 "cells": [
  {
   "cell_type": "markdown",
   "id": "54d1899a",
   "metadata": {},
   "source": [
    "# Introduction to Python"
   ]
  },
  {
   "cell_type": "markdown",
   "id": "73f4f2b0",
   "metadata": {},
   "source": [
    "P.D. Nation and J.R. Johansson\n",
    "\n",
    "For more information about QuTiP see [http://qutip.org](http://qutip.org)"
   ]
  },
  {
   "cell_type": "markdown",
   "id": "58e7ee88",
   "metadata": {},
   "source": [
    "## Imports\n",
    "Here we import the required functions for later usage."
   ]
  },
  {
   "cell_type": "code",
   "execution_count": 1,
   "id": "1cbac9ff",
   "metadata": {
    "execution": {
     "iopub.execute_input": "2022-08-26T13:32:12.442332Z",
     "iopub.status.busy": "2022-08-26T13:32:12.441694Z",
     "iopub.status.idle": "2022-08-26T13:32:13.049769Z",
     "shell.execute_reply": "2022-08-26T13:32:13.049050Z"
    }
   },
   "outputs": [],
   "source": [
    "import matplotlib.pyplot as plt\n",
    "import numpy as np\n",
    "from scipy.special import factorial"
   ]
  },
  {
   "cell_type": "markdown",
   "id": "49b79134",
   "metadata": {},
   "source": [
    "## Using Python For Simple Calculations"
   ]
  },
  {
   "cell_type": "markdown",
   "id": "56f2fdd5",
   "metadata": {},
   "source": [
    "As a first step, lets try to use the interactive Python command line tool **iPython** as a basic calculator.  Addition, subtraction, and multiplication, all work in the same way as you would write the equations down on paper"
   ]
  },
  {
   "cell_type": "code",
   "execution_count": 2,
   "id": "2cc2a2e2",
   "metadata": {
    "execution": {
     "iopub.execute_input": "2022-08-26T13:32:13.053478Z",
     "iopub.status.busy": "2022-08-26T13:32:13.053025Z",
     "iopub.status.idle": "2022-08-26T13:32:13.064025Z",
     "shell.execute_reply": "2022-08-26T13:32:13.063037Z"
    }
   },
   "outputs": [
    {
     "data": {
      "text/plain": [
       "15"
      ]
     },
     "execution_count": 2,
     "metadata": {},
     "output_type": "execute_result"
    }
   ],
   "source": [
    "10 + 5"
   ]
  },
  {
   "cell_type": "code",
   "execution_count": 3,
   "id": "f0048a9f",
   "metadata": {
    "execution": {
     "iopub.execute_input": "2022-08-26T13:32:13.066501Z",
     "iopub.status.busy": "2022-08-26T13:32:13.066102Z",
     "iopub.status.idle": "2022-08-26T13:32:13.071883Z",
     "shell.execute_reply": "2022-08-26T13:32:13.071126Z"
    }
   },
   "outputs": [
    {
     "data": {
      "text/plain": [
       "-147"
      ]
     },
     "execution_count": 3,
     "metadata": {},
     "output_type": "execute_result"
    }
   ],
   "source": [
    "10 - 157"
   ]
  },
  {
   "cell_type": "code",
   "execution_count": 4,
   "id": "b4795cbe",
   "metadata": {
    "execution": {
     "iopub.execute_input": "2022-08-26T13:32:13.074448Z",
     "iopub.status.busy": "2022-08-26T13:32:13.073965Z",
     "iopub.status.idle": "2022-08-26T13:32:13.079005Z",
     "shell.execute_reply": "2022-08-26T13:32:13.078412Z"
    }
   },
   "outputs": [
    {
     "data": {
      "text/plain": [
       "1.3333333333333333"
      ]
     },
     "execution_count": 4,
     "metadata": {},
     "output_type": "execute_result"
    }
   ],
   "source": [
    "4 / 3"
   ]
  },
  {
   "cell_type": "code",
   "execution_count": 5,
   "id": "122ca5e3",
   "metadata": {
    "execution": {
     "iopub.execute_input": "2022-08-26T13:32:13.081614Z",
     "iopub.status.busy": "2022-08-26T13:32:13.081165Z",
     "iopub.status.idle": "2022-08-26T13:32:13.086598Z",
     "shell.execute_reply": "2022-08-26T13:32:13.085900Z"
    }
   },
   "outputs": [
    {
     "data": {
      "text/plain": [
       "92.0"
      ]
     },
     "execution_count": 5,
     "metadata": {},
     "output_type": "execute_result"
    }
   ],
   "source": [
    "(50 - 4) * 10 / 5"
   ]
  },
  {
   "cell_type": "markdown",
   "id": "45563c8d",
   "metadata": {},
   "source": [
    "However, things like raising a number to a power, $4^{4}$, are written differently."
   ]
  },
  {
   "cell_type": "code",
   "execution_count": 6,
   "id": "e2ffe031",
   "metadata": {
    "execution": {
     "iopub.execute_input": "2022-08-26T13:32:13.088988Z",
     "iopub.status.busy": "2022-08-26T13:32:13.088513Z",
     "iopub.status.idle": "2022-08-26T13:32:13.093173Z",
     "shell.execute_reply": "2022-08-26T13:32:13.092600Z"
    }
   },
   "outputs": [
    {
     "data": {
      "text/plain": [
       "256"
      ]
     },
     "execution_count": 6,
     "metadata": {},
     "output_type": "execute_result"
    }
   ],
   "source": [
    "4**4"
   ]
  },
  {
   "cell_type": "markdown",
   "id": "8eb53b49",
   "metadata": {},
   "source": [
    "We could also express this in the mathematically equivalent way as $4^{4.0}$.  However, inside of the computer, the result is not treated the same as the above answer."
   ]
  },
  {
   "cell_type": "code",
   "execution_count": 7,
   "id": "4ddcd79f",
   "metadata": {
    "execution": {
     "iopub.execute_input": "2022-08-26T13:32:13.095654Z",
     "iopub.status.busy": "2022-08-26T13:32:13.095159Z",
     "iopub.status.idle": "2022-08-26T13:32:13.098945Z",
     "shell.execute_reply": "2022-08-26T13:32:13.098370Z"
    }
   },
   "outputs": [
    {
     "data": {
      "text/plain": [
       "256.0"
      ]
     },
     "execution_count": 7,
     "metadata": {},
     "output_type": "execute_result"
    }
   ],
   "source": [
    "4**4.0"
   ]
  },
  {
   "cell_type": "markdown",
   "id": "c3fd0261",
   "metadata": {},
   "source": [
    "## Integers vs. Floating Point Numbers"
   ]
  },
  {
   "cell_type": "markdown",
   "id": "b13e94b2",
   "metadata": {},
   "source": [
    "All information stored in a computer must be represented in a binary format consisting of zeros and ones (e.g. $461\\rightarrow 111001101$).  Each zero or one is called a **bit**, and given $N$ bits, one can store all of the integers in the range $[0,2^{N-1}]$, where the $-1$ is due to the fact that the first bit is reserved for defining if a number is positive or negative   \n",
    "\n",
    "However, given a fixed number of bits, it is impossible to store an arbitrary number exactly.  Therefore, if one is given a random number, unless the number is exactly divisible by a factor of two, the conversion between the random number and the binary bit representation ultimately leads to a loss of precision, and what is known as **roundoff error**.\n"
   ]
  },
  {
   "cell_type": "markdown",
   "id": "2726f8fa",
   "metadata": {},
   "source": [
    "When dealing with numbers inside a computer there are two distinct types of numbers to consider:"
   ]
  },
  {
   "cell_type": "markdown",
   "id": "28a013a2",
   "metadata": {},
   "source": [
    "- **Integers** - (1,2,4,-586,..) Are what are called **fixed-point numbers**, where the term fixed-point means that there is a fixed number of decimal places in the number (zero for integers).  These numbers can be stored exactly in a computer."
   ]
  },
  {
   "cell_type": "markdown",
   "id": "0ac0b3e2",
   "metadata": {},
   "source": [
    "- **Doubles/Floats** - (3.141,0.21,-0.1,..) These are **floating-point numbers** that are the binary equivalent to scientific notation $c=2.99792458\\times 10^{8}$.  Doubles (also called double-precision numbers) are floating point numbers that are written using 64-bits and, in general, are only accurate to the 15th or 16th decimal place.  Floats (or single-precision numbers) use 32-bits, and are good to 6-7 decimal places.  **Serious scientific calculations always require a combination of integers and double (64-bit) numbers**."
   ]
  },
  {
   "cell_type": "code",
   "execution_count": 8,
   "id": "9f78d0a8",
   "metadata": {
    "execution": {
     "iopub.execute_input": "2022-08-26T13:32:13.101450Z",
     "iopub.status.busy": "2022-08-26T13:32:13.100926Z",
     "iopub.status.idle": "2022-08-26T13:32:13.106561Z",
     "shell.execute_reply": "2022-08-26T13:32:13.105749Z"
    }
   },
   "outputs": [
    {
     "data": {
      "text/plain": [
       "7.000000000000001"
      ]
     },
     "execution_count": 8,
     "metadata": {},
     "output_type": "execute_result"
    }
   ],
   "source": [
    "7 + 0.000000000000001"
   ]
  },
  {
   "cell_type": "code",
   "execution_count": 9,
   "id": "72628cce",
   "metadata": {
    "execution": {
     "iopub.execute_input": "2022-08-26T13:32:13.109133Z",
     "iopub.status.busy": "2022-08-26T13:32:13.108823Z",
     "iopub.status.idle": "2022-08-26T13:32:13.112219Z",
     "shell.execute_reply": "2022-08-26T13:32:13.111789Z"
    }
   },
   "outputs": [
    {
     "data": {
      "text/plain": [
       "7.0"
      ]
     },
     "execution_count": 9,
     "metadata": {},
     "output_type": "execute_result"
    }
   ],
   "source": [
    "7 + 0.0000000000000001"
   ]
  },
  {
   "cell_type": "code",
   "execution_count": 10,
   "id": "197056a1",
   "metadata": {
    "execution": {
     "iopub.execute_input": "2022-08-26T13:32:13.114806Z",
     "iopub.status.busy": "2022-08-26T13:32:13.114313Z",
     "iopub.status.idle": "2022-08-26T13:32:13.118051Z",
     "shell.execute_reply": "2022-08-26T13:32:13.117461Z"
    }
   },
   "outputs": [
    {
     "data": {
      "text/plain": [
       "0.30000000000000004"
      ]
     },
     "execution_count": 10,
     "metadata": {},
     "output_type": "execute_result"
    }
   ],
   "source": [
    "0.1 + 0.2"
   ]
  },
  {
   "cell_type": "markdown",
   "id": "b6dbd8f5",
   "metadata": {},
   "source": [
    "This last example clearly highlights the fact that the computer does not store decimal (floating-point) numbers exactly.  The loss of precision in floating-point numbers can be characterized by the **machine precision**, $\\epsilon_{\\rm m}$, that is defined to be the smallest positive number such that \n",
    "\n",
    "$$1_{\\rm c}+\\epsilon_{\\rm m}\\neq 1_{\\rm c}$$\n",
    "\n",
    "where the subscript on $1_{\\rm c}$ is meant to remind you that this is a computer number.  Therefore, for any arbitrary number $N$ is related to its floating-point equivalent $N_{\\rm c}$ by\n",
    "\n",
    "$$N_{\\rm c}=N\\pm \\epsilon, \\ \\ \\forall~|\\epsilon|< \\epsilon_{\\rm m}.$$\n",
    "\n",
    "**Take Home Message** - All double-precision decimal numbers that are not factors of two will have error in the 15th decimal place.  This can lead to errors in your numerical solutions if you are not careful."
   ]
  },
  {
   "cell_type": "markdown",
   "id": "eb6ec974",
   "metadata": {},
   "source": [
    "## Making Python Smarter Using NumPy"
   ]
  },
  {
   "cell_type": "markdown",
   "id": "327b07e9",
   "metadata": {},
   "source": [
    "Python itself has limited support for mathematics outside of simple arithmetic.  Therefore, we will use the functions in the NumPy module to do more impressive, and faster, calculations.  We have imported NumPy already at the top of this notebook and can use it now by referring to `np`.\n",
    "\n",
    "We can now do more impressive calculations:"
   ]
  },
  {
   "cell_type": "code",
   "execution_count": 11,
   "id": "85492d6a",
   "metadata": {
    "execution": {
     "iopub.execute_input": "2022-08-26T13:32:13.120526Z",
     "iopub.status.busy": "2022-08-26T13:32:13.120053Z",
     "iopub.status.idle": "2022-08-26T13:32:13.123911Z",
     "shell.execute_reply": "2022-08-26T13:32:13.123319Z"
    }
   },
   "outputs": [
    {
     "data": {
      "text/plain": [
       "10.381236562731843"
      ]
     },
     "execution_count": 11,
     "metadata": {},
     "output_type": "execute_result"
    }
   ],
   "source": [
    "np.exp(2.34)"
   ]
  },
  {
   "cell_type": "code",
   "execution_count": 12,
   "id": "027dd4fb",
   "metadata": {
    "execution": {
     "iopub.execute_input": "2022-08-26T13:32:13.126844Z",
     "iopub.status.busy": "2022-08-26T13:32:13.126315Z",
     "iopub.status.idle": "2022-08-26T13:32:13.130213Z",
     "shell.execute_reply": "2022-08-26T13:32:13.129616Z"
    }
   },
   "outputs": [
    {
     "data": {
      "text/plain": [
       "2.23606797749979"
      ]
     },
     "execution_count": 12,
     "metadata": {},
     "output_type": "execute_result"
    }
   ],
   "source": [
    "np.sqrt(5)"
   ]
  },
  {
   "cell_type": "code",
   "execution_count": 13,
   "id": "b4bb108d",
   "metadata": {
    "execution": {
     "iopub.execute_input": "2022-08-26T13:32:13.132657Z",
     "iopub.status.busy": "2022-08-26T13:32:13.132173Z",
     "iopub.status.idle": "2022-08-26T13:32:13.136145Z",
     "shell.execute_reply": "2022-08-26T13:32:13.135549Z"
    }
   },
   "outputs": [
    {
     "data": {
      "text/plain": [
       "0.6366197723675814"
      ]
     },
     "execution_count": 13,
     "metadata": {},
     "output_type": "execute_result"
    }
   ],
   "source": [
    "np.sinc(0.5)"
   ]
  },
  {
   "cell_type": "markdown",
   "id": "ef395883",
   "metadata": {},
   "source": [
    "## Variables"
   ]
  },
  {
   "cell_type": "markdown",
   "id": "0be06ab5",
   "metadata": {},
   "source": [
    "If we want to be able to store the numbers and results from our calculations then we must define variables using the \"=\" sign:"
   ]
  },
  {
   "cell_type": "code",
   "execution_count": 14,
   "id": "dbe553c1",
   "metadata": {
    "execution": {
     "iopub.execute_input": "2022-08-26T13:32:13.139304Z",
     "iopub.status.busy": "2022-08-26T13:32:13.138833Z",
     "iopub.status.idle": "2022-08-26T13:32:13.142718Z",
     "shell.execute_reply": "2022-08-26T13:32:13.142122Z"
    }
   },
   "outputs": [
    {
     "data": {
      "text/plain": [
       "78.53981633974483"
      ]
     },
     "execution_count": 14,
     "metadata": {},
     "output_type": "execute_result"
    }
   ],
   "source": [
    "radius = 5\n",
    "area = np.pi * radius**2\n",
    "area"
   ]
  },
  {
   "cell_type": "markdown",
   "id": "a4bb9c0c",
   "metadata": {},
   "source": [
    "We see that our variables name is defined on the left of the ```=``` sign and the value its given is defined on the right.  Here we have also used the ```pi``` variable that has been predefined by NumPy.  Variables can then be used in other expressions.  \n",
    "\n",
    "If a predefined variable is again used on the left side of ```=``` then its original value is replaced."
   ]
  },
  {
   "cell_type": "code",
   "execution_count": 15,
   "id": "babc6d27",
   "metadata": {
    "execution": {
     "iopub.execute_input": "2022-08-26T13:32:13.145624Z",
     "iopub.status.busy": "2022-08-26T13:32:13.145147Z",
     "iopub.status.idle": "2022-08-26T13:32:13.149014Z",
     "shell.execute_reply": "2022-08-26T13:32:13.148416Z"
    }
   },
   "outputs": [
    {
     "data": {
      "text/plain": [
       "12.5"
      ]
     },
     "execution_count": 15,
     "metadata": {},
     "output_type": "execute_result"
    }
   ],
   "source": [
    "x = 10\n",
    "x = (x**2 + 25) / 10\n",
    "x"
   ]
  },
  {
   "cell_type": "markdown",
   "id": "3193f5e4",
   "metadata": {},
   "source": [
    "This is different than the mathematical equation $10x=x^{2}+25$  which has the solution $x=5$.  Therefore, it is important to remember that the ```=``` sign in a computer program is **not** equivalent to the mathematical equality. "
   ]
  },
  {
   "cell_type": "markdown",
   "id": "669f0c06",
   "metadata": {},
   "source": [
    "What happens if you try to use a variable without first defining it? \n",
    "\n",
    "Python would give us an error that the variable is not defined.  In addition, there are several words that are reserved by the Python language and cannot be used as variables:\n",
    "\n",
    "    and, as, assert, break, class, continue, def, del, elif, else, except, \n",
    "    exec, finally, for, from, global, if, import, in, is, lambda, not, or,\n",
    "    pass, print, raise, return, try, while, with, yield\n",
    "    \n",
    "Other than the above reserved words, your variables can be anything that starts with a letter or the underscore character \"$\\_$\" followed by any combination of alphanumeric characters and \"$\\_$\".  Note that using upper or lower case letters will give you two different variables."
   ]
  },
  {
   "cell_type": "code",
   "execution_count": 16,
   "id": "6b90d0bc",
   "metadata": {
    "execution": {
     "iopub.execute_input": "2022-08-26T13:32:13.151735Z",
     "iopub.status.busy": "2022-08-26T13:32:13.151418Z",
     "iopub.status.idle": "2022-08-26T13:32:13.155136Z",
     "shell.execute_reply": "2022-08-26T13:32:13.154551Z"
    }
   },
   "outputs": [
    {
     "data": {
      "text/plain": [
       "80"
      ]
     },
     "execution_count": 16,
     "metadata": {},
     "output_type": "execute_result"
    }
   ],
   "source": [
    "_freq = 8\n",
    "Oscillator_Energy = 10\n",
    "_freq * Oscillator_Energy"
   ]
  },
  {
   "cell_type": "markdown",
   "id": "6cb38de2",
   "metadata": {},
   "source": [
    "### Some Rules About Variables"
   ]
  },
  {
   "cell_type": "markdown",
   "id": "9756e08c",
   "metadata": {},
   "source": [
    "Although there are many ways to define variables in Python, it is best to try to define your variables in all the same way.  In this class, all of our variables will use only lower case characters. \n"
   ]
  },
  {
   "cell_type": "code",
   "execution_count": 17,
   "id": "c5dc4cc6",
   "metadata": {
    "execution": {
     "iopub.execute_input": "2022-08-26T13:32:13.157465Z",
     "iopub.status.busy": "2022-08-26T13:32:13.157080Z",
     "iopub.status.idle": "2022-08-26T13:32:13.159984Z",
     "shell.execute_reply": "2022-08-26T13:32:13.159402Z"
    }
   },
   "outputs": [],
   "source": [
    "speed_of_light = 2.9979 * 10**8\n",
    "spring_constant = np.sqrt(2 / 5)"
   ]
  },
  {
   "cell_type": "markdown",
   "id": "14003b09",
   "metadata": {},
   "source": [
    "It is also good practice to use variable names that correspond to the physical quantity that the variable represents."
   ]
  },
  {
   "cell_type": "markdown",
   "id": "0a66bba9",
   "metadata": {},
   "source": [
    "## Strings"
   ]
  },
  {
   "cell_type": "markdown",
   "id": "a802f8f0",
   "metadata": {},
   "source": [
    "Often we want to print some text along with our variables, ask the user for input, or actually use the words and letters themselves as variables (e.g. in DNA analysis).  All of these can be accomplished using **strings**.  We have already seen one string already in this class: "
   ]
  },
  {
   "cell_type": "code",
   "execution_count": 18,
   "id": "4a74eaab",
   "metadata": {
    "execution": {
     "iopub.execute_input": "2022-08-26T13:32:13.162466Z",
     "iopub.status.busy": "2022-08-26T13:32:13.161987Z",
     "iopub.status.idle": "2022-08-26T13:32:13.165705Z",
     "shell.execute_reply": "2022-08-26T13:32:13.165123Z"
    }
   },
   "outputs": [
    {
     "data": {
      "text/plain": [
       "'Hello Class'"
      ]
     },
     "execution_count": 18,
     "metadata": {},
     "output_type": "execute_result"
    }
   ],
   "source": [
    "\"Hello Class\""
   ]
  },
  {
   "cell_type": "markdown",
   "id": "24e256ae",
   "metadata": {},
   "source": [
    "We can also use single quotes, e.g. `'Hello Class'`.\n",
    "\n",
    "If we want to use the quote symbol in the string itself then we need to mix the two types "
   ]
  },
  {
   "cell_type": "code",
   "execution_count": 19,
   "id": "776dade4",
   "metadata": {
    "execution": {
     "iopub.execute_input": "2022-08-26T13:32:13.168610Z",
     "iopub.status.busy": "2022-08-26T13:32:13.168142Z",
     "iopub.status.idle": "2022-08-26T13:32:13.171790Z",
     "shell.execute_reply": "2022-08-26T13:32:13.171210Z"
    }
   },
   "outputs": [
    {
     "data": {
      "text/plain": [
       "\"How was Hwajung's birthday party?\""
      ]
     },
     "execution_count": 19,
     "metadata": {},
     "output_type": "execute_result"
    }
   ],
   "source": [
    "\"How was Hwajung's birthday party?\""
   ]
  },
  {
   "cell_type": "markdown",
   "id": "cf4a48c4",
   "metadata": {},
   "source": [
    "Just like we did with integers and doubles, we can assign a string to a variable, and we can even add two strings together."
   ]
  },
  {
   "cell_type": "code",
   "execution_count": 20,
   "id": "beb53309",
   "metadata": {
    "execution": {
     "iopub.execute_input": "2022-08-26T13:32:13.174687Z",
     "iopub.status.busy": "2022-08-26T13:32:13.174171Z",
     "iopub.status.idle": "2022-08-26T13:32:13.178797Z",
     "shell.execute_reply": "2022-08-26T13:32:13.178222Z"
    }
   },
   "outputs": [
    {
     "data": {
      "text/plain": [
       "'I like chicken and HOF'"
      ]
     },
     "execution_count": 20,
     "metadata": {},
     "output_type": "execute_result"
    }
   ],
   "source": [
    "a = \"I like \"  # There is a blank space at the end of this string.\n",
    "b = \"chicken and HOF\"\n",
    "a + b"
   ]
  },
  {
   "cell_type": "markdown",
   "id": "d94a1327",
   "metadata": {},
   "source": [
    "Notice the blank space at the end of the string in variable \"a\" provides spacing between \"like\" and \"chicken\"."
   ]
  },
  {
   "cell_type": "markdown",
   "id": "e83b098e",
   "metadata": {},
   "source": [
    "If we want to print out stuff, including strings and integers or doubles together, then we can use the builtin ```print``` function to accomplish this"
   ]
  },
  {
   "cell_type": "code",
   "execution_count": 21,
   "id": "7055c7ae",
   "metadata": {
    "execution": {
     "iopub.execute_input": "2022-08-26T13:32:13.181437Z",
     "iopub.status.busy": "2022-08-26T13:32:13.180906Z",
     "iopub.status.idle": "2022-08-26T13:32:13.185390Z",
     "shell.execute_reply": "2022-08-26T13:32:13.184785Z"
    }
   },
   "outputs": [
    {
     "name": "stdout",
     "output_type": "stream",
     "text": [
      "The temperature right now is 23\n"
     ]
    }
   ],
   "source": [
    "temp = 23\n",
    "text = \"The temperature right now is\"\n",
    "print(text, temp)"
   ]
  },
  {
   "cell_type": "markdown",
   "id": "c3f6d268",
   "metadata": {},
   "source": [
    "Notice how the print function automatically puts a space between the the two input arguments.  The ```print``` function automatically takes any number of string, integer, double, or other variables, converts them into strings, and then prints them for the user."
   ]
  },
  {
   "cell_type": "markdown",
   "id": "8452ab36",
   "metadata": {},
   "source": [
    "## Lists"
   ]
  },
  {
   "cell_type": "markdown",
   "id": "f5a99f3a",
   "metadata": {},
   "source": [
    "Often times we will want to group many variables together into one object.  In Python this is accomplished by using a **```list```** datatype variable."
   ]
  },
  {
   "cell_type": "code",
   "execution_count": 22,
   "id": "11cbbf3b",
   "metadata": {
    "execution": {
     "iopub.execute_input": "2022-08-26T13:32:13.187911Z",
     "iopub.status.busy": "2022-08-26T13:32:13.187612Z",
     "iopub.status.idle": "2022-08-26T13:32:13.190448Z",
     "shell.execute_reply": "2022-08-26T13:32:13.189875Z"
    }
   },
   "outputs": [],
   "source": [
    "shopping_list = [\"eggs\", \"bread\", \"milk\", \"bananas\"]"
   ]
  },
  {
   "cell_type": "markdown",
   "id": "a51ea2f4",
   "metadata": {},
   "source": [
    "If we want to access a single variable inside of the list, then we need to use the **index** that corresponds to the variable inside of square brackets."
   ]
  },
  {
   "cell_type": "code",
   "execution_count": 23,
   "id": "e12aa318",
   "metadata": {
    "execution": {
     "iopub.execute_input": "2022-08-26T13:32:13.192939Z",
     "iopub.status.busy": "2022-08-26T13:32:13.192459Z",
     "iopub.status.idle": "2022-08-26T13:32:13.196182Z",
     "shell.execute_reply": "2022-08-26T13:32:13.195596Z"
    }
   },
   "outputs": [
    {
     "data": {
      "text/plain": [
       "'milk'"
      ]
     },
     "execution_count": 23,
     "metadata": {},
     "output_type": "execute_result"
    }
   ],
   "source": [
    "shopping_list[2]"
   ]
  },
  {
   "cell_type": "markdown",
   "id": "b38b2b53",
   "metadata": {},
   "source": [
    "We see that the \"milk\" string can be accessed using the index number $2$.  However, we can see that this variable is actually the third string in the list.  This discrepancy is due to the fact that Python (like C-code) considers the first element in a list, or other multivariable data structures, to be at index $0$."
   ]
  },
  {
   "cell_type": "code",
   "execution_count": 24,
   "id": "53d7dbd0",
   "metadata": {
    "execution": {
     "iopub.execute_input": "2022-08-26T13:32:13.198980Z",
     "iopub.status.busy": "2022-08-26T13:32:13.198597Z",
     "iopub.status.idle": "2022-08-26T13:32:13.202270Z",
     "shell.execute_reply": "2022-08-26T13:32:13.201691Z"
    }
   },
   "outputs": [
    {
     "data": {
      "text/plain": [
       "'eggs'"
      ]
     },
     "execution_count": 24,
     "metadata": {},
     "output_type": "execute_result"
    }
   ],
   "source": [
    "shopping_list[0]"
   ]
  },
  {
   "cell_type": "markdown",
   "id": "d71fe719",
   "metadata": {},
   "source": [
    "This is important to remember, and will take some getting used to before it becomes natural.  If we want to access the elements of the list from back to front, we can use negative indices"
   ]
  },
  {
   "cell_type": "code",
   "execution_count": 25,
   "id": "c41d7f3c",
   "metadata": {
    "execution": {
     "iopub.execute_input": "2022-08-26T13:32:13.205026Z",
     "iopub.status.busy": "2022-08-26T13:32:13.204638Z",
     "iopub.status.idle": "2022-08-26T13:32:13.208235Z",
     "shell.execute_reply": "2022-08-26T13:32:13.207745Z"
    }
   },
   "outputs": [
    {
     "data": {
      "text/plain": [
       "'bananas'"
      ]
     },
     "execution_count": 25,
     "metadata": {},
     "output_type": "execute_result"
    }
   ],
   "source": [
    "shopping_list[-1]"
   ]
  },
  {
   "cell_type": "code",
   "execution_count": 26,
   "id": "b7432dc1",
   "metadata": {
    "execution": {
     "iopub.execute_input": "2022-08-26T13:32:13.210524Z",
     "iopub.status.busy": "2022-08-26T13:32:13.210137Z",
     "iopub.status.idle": "2022-08-26T13:32:13.213678Z",
     "shell.execute_reply": "2022-08-26T13:32:13.213232Z"
    }
   },
   "outputs": [
    {
     "data": {
      "text/plain": [
       "'milk'"
      ]
     },
     "execution_count": 26,
     "metadata": {},
     "output_type": "execute_result"
    }
   ],
   "source": [
    "shopping_list[-2]"
   ]
  },
  {
   "cell_type": "markdown",
   "id": "d1a83ae2",
   "metadata": {},
   "source": [
    "If we are given a list variable and we want to known how many elements are inside of the list, then we can use the ```len``` function that returns an integer giving the length of the list."
   ]
  },
  {
   "cell_type": "code",
   "execution_count": 27,
   "id": "52807314",
   "metadata": {
    "execution": {
     "iopub.execute_input": "2022-08-26T13:32:13.216041Z",
     "iopub.status.busy": "2022-08-26T13:32:13.215659Z",
     "iopub.status.idle": "2022-08-26T13:32:13.219349Z",
     "shell.execute_reply": "2022-08-26T13:32:13.218760Z"
    }
   },
   "outputs": [
    {
     "data": {
      "text/plain": [
       "4"
      ]
     },
     "execution_count": 27,
     "metadata": {},
     "output_type": "execute_result"
    }
   ],
   "source": [
    "len(shopping_list)"
   ]
  },
  {
   "cell_type": "markdown",
   "id": "0dfc569e",
   "metadata": {},
   "source": [
    "If we want to change the length of the list by adding or removing elements, then we can use ```append``` and ```remove```, respectively."
   ]
  },
  {
   "cell_type": "code",
   "execution_count": 28,
   "id": "3c4c3154",
   "metadata": {
    "execution": {
     "iopub.execute_input": "2022-08-26T13:32:13.221912Z",
     "iopub.status.busy": "2022-08-26T13:32:13.221527Z",
     "iopub.status.idle": "2022-08-26T13:32:13.225376Z",
     "shell.execute_reply": "2022-08-26T13:32:13.224773Z"
    }
   },
   "outputs": [
    {
     "data": {
      "text/plain": [
       "['eggs', 'bread', 'milk', 'bananas', 'apples']"
      ]
     },
     "execution_count": 28,
     "metadata": {},
     "output_type": "execute_result"
    }
   ],
   "source": [
    "shopping_list.append(\"apples\")\n",
    "shopping_list"
   ]
  },
  {
   "cell_type": "code",
   "execution_count": 29,
   "id": "ff3cdaac",
   "metadata": {
    "execution": {
     "iopub.execute_input": "2022-08-26T13:32:13.227821Z",
     "iopub.status.busy": "2022-08-26T13:32:13.227316Z",
     "iopub.status.idle": "2022-08-26T13:32:13.232005Z",
     "shell.execute_reply": "2022-08-26T13:32:13.231412Z"
    }
   },
   "outputs": [
    {
     "data": {
      "text/plain": [
       "['eggs', 'milk', 'bananas', 'apples']"
      ]
     },
     "execution_count": 29,
     "metadata": {},
     "output_type": "execute_result"
    }
   ],
   "source": [
    "shopping_list.remove(\"bread\")\n",
    "shopping_list"
   ]
  },
  {
   "cell_type": "markdown",
   "id": "ab7e8b6a",
   "metadata": {},
   "source": [
    "Note that lists to not have to have the same type of data in each element!  You can mix any data types you want."
   ]
  },
  {
   "cell_type": "code",
   "execution_count": 30,
   "id": "2cc8fc4a",
   "metadata": {
    "execution": {
     "iopub.execute_input": "2022-08-26T13:32:13.234585Z",
     "iopub.status.busy": "2022-08-26T13:32:13.234049Z",
     "iopub.status.idle": "2022-08-26T13:32:13.238072Z",
     "shell.execute_reply": "2022-08-26T13:32:13.237581Z"
    }
   },
   "outputs": [
    {
     "data": {
      "text/plain": [
       "[1, 'hello', -1.234, [-1, -2, -3]]"
      ]
     },
     "execution_count": 30,
     "metadata": {},
     "output_type": "execute_result"
    }
   ],
   "source": [
    "various_things = [1, \"hello\", -1.234, [-1, -2, -3]]\n",
    "various_things"
   ]
  },
  {
   "cell_type": "markdown",
   "id": "73dac2eb",
   "metadata": {},
   "source": [
    "All of these elements can be accessed in the usual way"
   ]
  },
  {
   "cell_type": "code",
   "execution_count": 31,
   "id": "8c2b62c0",
   "metadata": {
    "execution": {
     "iopub.execute_input": "2022-08-26T13:32:13.240571Z",
     "iopub.status.busy": "2022-08-26T13:32:13.240058Z",
     "iopub.status.idle": "2022-08-26T13:32:13.243939Z",
     "shell.execute_reply": "2022-08-26T13:32:13.243347Z"
    }
   },
   "outputs": [
    {
     "data": {
      "text/plain": [
       "1"
      ]
     },
     "execution_count": 31,
     "metadata": {},
     "output_type": "execute_result"
    }
   ],
   "source": [
    "various_things[0]"
   ]
  },
  {
   "cell_type": "code",
   "execution_count": 32,
   "id": "57483b79",
   "metadata": {
    "execution": {
     "iopub.execute_input": "2022-08-26T13:32:13.246401Z",
     "iopub.status.busy": "2022-08-26T13:32:13.245922Z",
     "iopub.status.idle": "2022-08-26T13:32:13.249686Z",
     "shell.execute_reply": "2022-08-26T13:32:13.249091Z"
    }
   },
   "outputs": [
    {
     "data": {
      "text/plain": [
       "[-1, -2, -3]"
      ]
     },
     "execution_count": 32,
     "metadata": {},
     "output_type": "execute_result"
    }
   ],
   "source": [
    "various_things[-1]"
   ]
  },
  {
   "cell_type": "code",
   "execution_count": 33,
   "id": "38db3d54",
   "metadata": {
    "execution": {
     "iopub.execute_input": "2022-08-26T13:32:13.251928Z",
     "iopub.status.busy": "2022-08-26T13:32:13.251540Z",
     "iopub.status.idle": "2022-08-26T13:32:13.255171Z",
     "shell.execute_reply": "2022-08-26T13:32:13.254697Z"
    }
   },
   "outputs": [
    {
     "data": {
      "text/plain": [
       "-2"
      ]
     },
     "execution_count": 33,
     "metadata": {},
     "output_type": "execute_result"
    }
   ],
   "source": [
    "various_things[3][1]"
   ]
  },
  {
   "cell_type": "markdown",
   "id": "f11022c6",
   "metadata": {},
   "source": [
    "## Iterating Through Lists and Python Indention Rules"
   ]
  },
  {
   "cell_type": "markdown",
   "id": "0e0d4d64",
   "metadata": {},
   "source": [
    "One of the most important reasons for using lists is because one often wants to do the same type of manipulation on each of the elements one at a time.  Going through a list in this fashion is called **iteration** and is accomplished in Python using the ```for``` command: "
   ]
  },
  {
   "cell_type": "code",
   "execution_count": 34,
   "id": "2d639b78",
   "metadata": {
    "execution": {
     "iopub.execute_input": "2022-08-26T13:32:13.257401Z",
     "iopub.status.busy": "2022-08-26T13:32:13.256998Z",
     "iopub.status.idle": "2022-08-26T13:32:13.260326Z",
     "shell.execute_reply": "2022-08-26T13:32:13.259830Z"
    }
   },
   "outputs": [
    {
     "name": "stdout",
     "output_type": "stream",
     "text": [
      "four calling birds\n",
      "three french hens\n",
      "two turtle doves\n",
      "a partridge in a pear tree\n"
     ]
    }
   ],
   "source": [
    "items = [\n",
    "    \"four calling birds\",\n",
    "    \"three french hens\",\n",
    "    \"two turtle doves\",\n",
    "    \"a partridge in a pear tree\",\n",
    "]\n",
    "for thing in items:\n",
    "    print(thing)"
   ]
  },
  {
   "cell_type": "markdown",
   "id": "e9ec24b0",
   "metadata": {},
   "source": [
    "Here, \"thing\" is a variable that takes the value of each item in the list \"items\" and then gets sent to the ```print``` function.  We are free to call this variable anything we want.  "
   ]
  },
  {
   "cell_type": "code",
   "execution_count": 35,
   "id": "7d765b7c",
   "metadata": {
    "execution": {
     "iopub.execute_input": "2022-08-26T13:32:13.262794Z",
     "iopub.status.busy": "2022-08-26T13:32:13.262280Z",
     "iopub.status.idle": "2022-08-26T13:32:13.265447Z",
     "shell.execute_reply": "2022-08-26T13:32:13.264866Z"
    }
   },
   "outputs": [
    {
     "name": "stdout",
     "output_type": "stream",
     "text": [
      "four calling birds\n",
      "three french hens\n",
      "two turtle doves\n",
      "a partridge in a pear tree\n"
     ]
    }
   ],
   "source": [
    "for variable in items:\n",
    "    print(variable)"
   ]
  },
  {
   "cell_type": "markdown",
   "id": "358e1eff",
   "metadata": {},
   "source": [
    "The next important thing to notice is that after the colon \":\" the print statement is indented.  This indention after a colon is required in the Python programming langage and represents a section of the code called a **block**.  If we did not intent the print function then Python would yell at us. "
   ]
  },
  {
   "cell_type": "markdown",
   "id": "808bab37",
   "metadata": {},
   "source": [
    "Blocks are a standard part of any programming language and are used for organization and flow-control in computer code.  Anything that is indented in the above example will be run for each item in the list"
   ]
  },
  {
   "cell_type": "code",
   "execution_count": 36,
   "id": "82713762",
   "metadata": {
    "execution": {
     "iopub.execute_input": "2022-08-26T13:32:13.267678Z",
     "iopub.status.busy": "2022-08-26T13:32:13.267286Z",
     "iopub.status.idle": "2022-08-26T13:32:13.270527Z",
     "shell.execute_reply": "2022-08-26T13:32:13.269910Z"
    }
   },
   "outputs": [
    {
     "name": "stdout",
     "output_type": "stream",
     "text": [
      "My true love gave to me four calling birds\n",
      "My true love gave to me three french hens\n",
      "My true love gave to me two turtle doves\n",
      "My true love gave to me a partridge in a pear tree\n"
     ]
    }
   ],
   "source": [
    "for variable in items:\n",
    "    print(\"My true love gave to me\", variable)"
   ]
  },
  {
   "cell_type": "markdown",
   "id": "f28e8b2d",
   "metadata": {},
   "source": [
    "## Slicing Lists"
   ]
  },
  {
   "cell_type": "markdown",
   "id": "96c18812",
   "metadata": {},
   "source": [
    "If we want to grab certain elements from a list we can make use of **slicing** to conveniently access the elements.  Slicing can be used on any **sequence** such as lists, strings, and as we will see shortly, arrays. Consider our ```shopping_list``` list:"
   ]
  },
  {
   "cell_type": "code",
   "execution_count": 37,
   "id": "5d295203",
   "metadata": {
    "execution": {
     "iopub.execute_input": "2022-08-26T13:32:13.272987Z",
     "iopub.status.busy": "2022-08-26T13:32:13.272603Z",
     "iopub.status.idle": "2022-08-26T13:32:13.275499Z",
     "shell.execute_reply": "2022-08-26T13:32:13.274903Z"
    }
   },
   "outputs": [],
   "source": [
    "shopping_list = [\"eggs\", \"bread\", \"milk\", \"bananas\", \"apples\"]"
   ]
  },
  {
   "cell_type": "markdown",
   "id": "9737504c",
   "metadata": {},
   "source": [
    "To get the first element we used a single index"
   ]
  },
  {
   "cell_type": "code",
   "execution_count": 38,
   "id": "189c3d19",
   "metadata": {
    "execution": {
     "iopub.execute_input": "2022-08-26T13:32:13.277826Z",
     "iopub.status.busy": "2022-08-26T13:32:13.277438Z",
     "iopub.status.idle": "2022-08-26T13:32:13.281154Z",
     "shell.execute_reply": "2022-08-26T13:32:13.280528Z"
    }
   },
   "outputs": [
    {
     "data": {
      "text/plain": [
       "'eggs'"
      ]
     },
     "execution_count": 38,
     "metadata": {},
     "output_type": "execute_result"
    }
   ],
   "source": [
    "shopping_list[0]"
   ]
  },
  {
   "cell_type": "markdown",
   "id": "4be127e1",
   "metadata": {},
   "source": [
    "But if we want to get the first three elements in the list we can use: "
   ]
  },
  {
   "cell_type": "code",
   "execution_count": 39,
   "id": "4a4ca17a",
   "metadata": {
    "execution": {
     "iopub.execute_input": "2022-08-26T13:32:13.283441Z",
     "iopub.status.busy": "2022-08-26T13:32:13.283058Z",
     "iopub.status.idle": "2022-08-26T13:32:13.286761Z",
     "shell.execute_reply": "2022-08-26T13:32:13.286301Z"
    }
   },
   "outputs": [
    {
     "data": {
      "text/plain": [
       "['eggs', 'bread', 'milk']"
      ]
     },
     "execution_count": 39,
     "metadata": {},
     "output_type": "execute_result"
    }
   ],
   "source": [
    "shopping_list[0:3]"
   ]
  },
  {
   "cell_type": "markdown",
   "id": "ae26db55",
   "metadata": {},
   "source": [
    "We could also grab the last two elements using:"
   ]
  },
  {
   "cell_type": "code",
   "execution_count": 40,
   "id": "c03c2fec",
   "metadata": {
    "execution": {
     "iopub.execute_input": "2022-08-26T13:32:13.288965Z",
     "iopub.status.busy": "2022-08-26T13:32:13.288576Z",
     "iopub.status.idle": "2022-08-26T13:32:13.292310Z",
     "shell.execute_reply": "2022-08-26T13:32:13.291816Z"
    }
   },
   "outputs": [
    {
     "data": {
      "text/plain": [
       "['bananas', 'apples']"
      ]
     },
     "execution_count": 40,
     "metadata": {},
     "output_type": "execute_result"
    }
   ],
   "source": [
    "shopping_list[-2:]"
   ]
  },
  {
   "cell_type": "markdown",
   "id": "ecc4a737",
   "metadata": {},
   "source": [
    "Or, we can get even more complex and grab all of the even number elements by using a third argument in the brackets that tells use the step size:"
   ]
  },
  {
   "cell_type": "code",
   "execution_count": 41,
   "id": "4ce7cd10",
   "metadata": {
    "execution": {
     "iopub.execute_input": "2022-08-26T13:32:13.294683Z",
     "iopub.status.busy": "2022-08-26T13:32:13.294195Z",
     "iopub.status.idle": "2022-08-26T13:32:13.297796Z",
     "shell.execute_reply": "2022-08-26T13:32:13.297352Z"
    }
   },
   "outputs": [
    {
     "data": {
      "text/plain": [
       "['eggs', 'milk', 'apples']"
      ]
     },
     "execution_count": 41,
     "metadata": {},
     "output_type": "execute_result"
    }
   ],
   "source": [
    "shopping_list[0::2]"
   ]
  },
  {
   "cell_type": "markdown",
   "id": "d7224b09",
   "metadata": {},
   "source": [
    "## Conditional Statements"
   ]
  },
  {
   "cell_type": "markdown",
   "id": "434497c0",
   "metadata": {},
   "source": [
    "We have now seen a collection of data types (integers, doubles/floats, lists, strings) but we have yet to discuss how to compare two different variables.  For example, how do we check if two different integers $a$ and $b$ are equal?  Or how do we know if $a\\ge b$?  This is accomplished using **conditional statements**.  The basic operations in boolean logic are \"equal\" (```==```), \"not equal\" (```!=```), \"greater than\" (```>```), \"greater than or equal\" (```>=```), \"less than\" (```<```), and \"less than or equal\" (```<=```).  All of these conditionals operate on two variables and return a simple boolean ```True``` or ```False``` answer.  For example"
   ]
  },
  {
   "cell_type": "code",
   "execution_count": 42,
   "id": "c89a2850",
   "metadata": {
    "execution": {
     "iopub.execute_input": "2022-08-26T13:32:13.300163Z",
     "iopub.status.busy": "2022-08-26T13:32:13.299775Z",
     "iopub.status.idle": "2022-08-26T13:32:13.303616Z",
     "shell.execute_reply": "2022-08-26T13:32:13.303009Z"
    }
   },
   "outputs": [
    {
     "data": {
      "text/plain": [
       "False"
      ]
     },
     "execution_count": 42,
     "metadata": {},
     "output_type": "execute_result"
    }
   ],
   "source": [
    "a = 5\n",
    "b = 8\n",
    "a > b"
   ]
  },
  {
   "cell_type": "code",
   "execution_count": 43,
   "id": "e51e3c92",
   "metadata": {
    "execution": {
     "iopub.execute_input": "2022-08-26T13:32:13.306321Z",
     "iopub.status.busy": "2022-08-26T13:32:13.306006Z",
     "iopub.status.idle": "2022-08-26T13:32:13.309863Z",
     "shell.execute_reply": "2022-08-26T13:32:13.309284Z"
    }
   },
   "outputs": [
    {
     "data": {
      "text/plain": [
       "(True, True)"
      ]
     },
     "execution_count": 43,
     "metadata": {},
     "output_type": "execute_result"
    }
   ],
   "source": [
    "c = 0\n",
    "c <= 0, c >= 0"
   ]
  },
  {
   "cell_type": "code",
   "execution_count": 44,
   "id": "9fc407e9",
   "metadata": {
    "execution": {
     "iopub.execute_input": "2022-08-26T13:32:13.312848Z",
     "iopub.status.busy": "2022-08-26T13:32:13.312336Z",
     "iopub.status.idle": "2022-08-26T13:32:13.316326Z",
     "shell.execute_reply": "2022-08-26T13:32:13.315745Z"
    }
   },
   "outputs": [
    {
     "data": {
      "text/plain": [
       "(False, True)"
      ]
     },
     "execution_count": 44,
     "metadata": {},
     "output_type": "execute_result"
    }
   ],
   "source": [
    "a = 5\n",
    "b = 6\n",
    "a == b, a != b"
   ]
  },
  {
   "cell_type": "markdown",
   "id": "b087b5a0",
   "metadata": {},
   "source": [
    "It is important to point out that in Python ```1``` and ```0``` are the same as ```True``` and ```False```, respectively."
   ]
  },
  {
   "cell_type": "code",
   "execution_count": 45,
   "id": "55a70397",
   "metadata": {
    "execution": {
     "iopub.execute_input": "2022-08-26T13:32:13.318701Z",
     "iopub.status.busy": "2022-08-26T13:32:13.318316Z",
     "iopub.status.idle": "2022-08-26T13:32:13.322087Z",
     "shell.execute_reply": "2022-08-26T13:32:13.321502Z"
    }
   },
   "outputs": [
    {
     "data": {
      "text/plain": [
       "(True, True)"
      ]
     },
     "execution_count": 45,
     "metadata": {},
     "output_type": "execute_result"
    }
   ],
   "source": [
    "t = True\n",
    "f = False\n",
    "t == 1, f == 0"
   ]
  },
  {
   "cell_type": "markdown",
   "id": "3435bf8e",
   "metadata": {},
   "source": [
    "We can also combine multiple conditional statements"
   ]
  },
  {
   "cell_type": "code",
   "execution_count": 46,
   "id": "a9dfdaa6",
   "metadata": {
    "execution": {
     "iopub.execute_input": "2022-08-26T13:32:13.324385Z",
     "iopub.status.busy": "2022-08-26T13:32:13.323999Z",
     "iopub.status.idle": "2022-08-26T13:32:13.327876Z",
     "shell.execute_reply": "2022-08-26T13:32:13.327417Z"
    }
   },
   "outputs": [
    {
     "data": {
      "text/plain": [
       "True"
      ]
     },
     "execution_count": 46,
     "metadata": {},
     "output_type": "execute_result"
    }
   ],
   "source": [
    "a = -1\n",
    "b = 4\n",
    "c = 10\n",
    "d = 11\n",
    "a < b < c != d"
   ]
  },
  {
   "cell_type": "markdown",
   "id": "185d593c",
   "metadata": {},
   "source": [
    "These operations can also be used on lists and strings:"
   ]
  },
  {
   "cell_type": "code",
   "execution_count": 47,
   "id": "e79bec7e",
   "metadata": {
    "execution": {
     "iopub.execute_input": "2022-08-26T13:32:13.330212Z",
     "iopub.status.busy": "2022-08-26T13:32:13.329683Z",
     "iopub.status.idle": "2022-08-26T13:32:13.333551Z",
     "shell.execute_reply": "2022-08-26T13:32:13.332967Z"
    }
   },
   "outputs": [
    {
     "data": {
      "text/plain": [
       "False"
      ]
     },
     "execution_count": 47,
     "metadata": {},
     "output_type": "execute_result"
    }
   ],
   "source": [
    "[4, 5, 6] >= [4, 5, 7]"
   ]
  },
  {
   "cell_type": "code",
   "execution_count": 48,
   "id": "79243670",
   "metadata": {
    "execution": {
     "iopub.execute_input": "2022-08-26T13:32:13.335772Z",
     "iopub.status.busy": "2022-08-26T13:32:13.335575Z",
     "iopub.status.idle": "2022-08-26T13:32:13.339343Z",
     "shell.execute_reply": "2022-08-26T13:32:13.338751Z"
    }
   },
   "outputs": [
    {
     "data": {
      "text/plain": [
       "True"
      ]
     },
     "execution_count": 48,
     "metadata": {},
     "output_type": "execute_result"
    }
   ],
   "source": [
    "[4, 5, 6] <= [4, 5, 7]"
   ]
  },
  {
   "cell_type": "code",
   "execution_count": 49,
   "id": "fa3212ed",
   "metadata": {
    "execution": {
     "iopub.execute_input": "2022-08-26T13:32:13.342107Z",
     "iopub.status.busy": "2022-08-26T13:32:13.341721Z",
     "iopub.status.idle": "2022-08-26T13:32:13.345305Z",
     "shell.execute_reply": "2022-08-26T13:32:13.344811Z"
    }
   },
   "outputs": [
    {
     "data": {
      "text/plain": [
       "False"
      ]
     },
     "execution_count": 49,
     "metadata": {},
     "output_type": "execute_result"
    }
   ],
   "source": [
    "\"today\" == \"Today\""
   ]
  },
  {
   "cell_type": "markdown",
   "id": "1e26aca4",
   "metadata": {},
   "source": [
    "### Conditional Statements and Flow Control"
   ]
  },
  {
   "cell_type": "markdown",
   "id": "ec719590",
   "metadata": {},
   "source": [
    "The main purpose of these conditional statements is to control the flow of a Python program.  The result of a conditional statement can be used to control a program using ```if/else``` and ```while``` statements."
   ]
  },
  {
   "cell_type": "code",
   "execution_count": 50,
   "id": "36212fd0",
   "metadata": {
    "execution": {
     "iopub.execute_input": "2022-08-26T13:32:13.347638Z",
     "iopub.status.busy": "2022-08-26T13:32:13.347147Z",
     "iopub.status.idle": "2022-08-26T13:32:13.350401Z",
     "shell.execute_reply": "2022-08-26T13:32:13.349936Z"
    }
   },
   "outputs": [
    {
     "name": "stdout",
     "output_type": "stream",
     "text": [
      "We have class today :(\n"
     ]
    }
   ],
   "source": [
    "today = \"friday\"\n",
    "if today == \"friday\":\n",
    "    print(\"We have class today :(\")  # this is a code block\n",
    "else:\n",
    "    print(\"No class today :)\")  # this is also a code block"
   ]
  },
  {
   "cell_type": "markdown",
   "id": "2ffe91c7",
   "metadata": {},
   "source": [
    "The code block below the ```if``` statement is run only if the conditional ```today=='friday'``` returns ```True```.  If the conditional is ```False``` then the code block inside the ```else``` statement is run.  We can also check multiple conditions by using the ``elif`` statement after ```if```:"
   ]
  },
  {
   "cell_type": "code",
   "execution_count": 51,
   "id": "84126d93",
   "metadata": {
    "execution": {
     "iopub.execute_input": "2022-08-26T13:32:13.352680Z",
     "iopub.status.busy": "2022-08-26T13:32:13.352293Z",
     "iopub.status.idle": "2022-08-26T13:32:13.355847Z",
     "shell.execute_reply": "2022-08-26T13:32:13.355238Z"
    }
   },
   "outputs": [
    {
     "name": "stdout",
     "output_type": "stream",
     "text": [
      "Our assignment is due today :(\n"
     ]
    }
   ],
   "source": [
    "today = \"thursday\"\n",
    "if today == \"friday\":\n",
    "    print(\"We have class today :(\")\n",
    "elif today == \"thursday\":\n",
    "    print(\"Our assignment is due today :(\")\n",
    "else:\n",
    "    print(\"No class today :)\")"
   ]
  },
  {
   "cell_type": "markdown",
   "id": "1fa3fe12",
   "metadata": {},
   "source": [
    "The other important flow control expression is the **```while``` loop** that executes a block of code repeatedly until the conditional statement at the start of the loop is ```False```."
   ]
  },
  {
   "cell_type": "code",
   "execution_count": 52,
   "id": "d540ff08",
   "metadata": {
    "execution": {
     "iopub.execute_input": "2022-08-26T13:32:13.358632Z",
     "iopub.status.busy": "2022-08-26T13:32:13.358434Z",
     "iopub.status.idle": "2022-08-26T13:32:13.361677Z",
     "shell.execute_reply": "2022-08-26T13:32:13.361095Z"
    }
   },
   "outputs": [
    {
     "name": "stdout",
     "output_type": "stream",
     "text": [
      "The current value of n is: 0\n",
      "The current value of n is: 1\n",
      "The current value of n is: 2\n",
      "The current value of n is: 3\n",
      "The current value of n is: 4\n",
      "The current value of n is: 5\n",
      "The current value of n is: 6\n",
      "The current value of n is: 7\n",
      "The current value of n is: 8\n",
      "The current value of n is: 9\n",
      "The current value of n is: 10\n"
     ]
    }
   ],
   "source": [
    "n = 0\n",
    "while n <= 10:  # evaluate code block until n>10\n",
    "    print(\"The current value of n is:\", n)\n",
    "    n = n + 1  # increase the value of n by 1"
   ]
  },
  {
   "cell_type": "markdown",
   "id": "48e74e98",
   "metadata": {},
   "source": [
    "When using a ```while``` loop you must make sure the conditional is not ```True``` forever.  Otherwise your program will be in an **infinite loop** that never ends."
   ]
  },
  {
   "cell_type": "markdown",
   "id": "b832e21b",
   "metadata": {},
   "source": [
    "### Example: Even and Odd Numbers"
   ]
  },
  {
   "cell_type": "markdown",
   "id": "6d48e946",
   "metadata": {},
   "source": [
    "Let us determine whether a given number between [1,10] is an even or odd number."
   ]
  },
  {
   "cell_type": "code",
   "execution_count": 53,
   "id": "986dcda1",
   "metadata": {
    "execution": {
     "iopub.execute_input": "2022-08-26T13:32:13.364578Z",
     "iopub.status.busy": "2022-08-26T13:32:13.364262Z",
     "iopub.status.idle": "2022-08-26T13:32:13.367819Z",
     "shell.execute_reply": "2022-08-26T13:32:13.367371Z"
    }
   },
   "outputs": [
    {
     "name": "stdout",
     "output_type": "stream",
     "text": [
      "1 is odd\n",
      "2 is even\n",
      "3 is odd\n",
      "4 is even\n",
      "5 is odd\n",
      "6 is even\n",
      "7 is odd\n",
      "8 is even\n",
      "9 is odd\n",
      "10 is even\n"
     ]
    }
   ],
   "source": [
    "for n in [1, 2, 3, 4, 5, 6, 7, 8, 9, 10]:\n",
    "    if np.remainder(n, 2) == 0:\n",
    "        print(n, \"is even\")\n",
    "    else:\n",
    "        print(n, \"is odd\")"
   ]
  },
  {
   "cell_type": "markdown",
   "id": "4480870a",
   "metadata": {},
   "source": [
    "Typing lists with a long sequence of integers is quite annoying.  Fortunately, Python has a builtin function called ```range``` that makes creating sequences of integers very easy.  For instance, the above example becomes"
   ]
  },
  {
   "cell_type": "code",
   "execution_count": 54,
   "id": "9f8a4603",
   "metadata": {
    "execution": {
     "iopub.execute_input": "2022-08-26T13:32:13.370066Z",
     "iopub.status.busy": "2022-08-26T13:32:13.369678Z",
     "iopub.status.idle": "2022-08-26T13:32:13.373159Z",
     "shell.execute_reply": "2022-08-26T13:32:13.372677Z"
    }
   },
   "outputs": [
    {
     "name": "stdout",
     "output_type": "stream",
     "text": [
      "1 is odd\n",
      "2 is even\n",
      "3 is odd\n",
      "4 is even\n",
      "5 is odd\n",
      "6 is even\n",
      "7 is odd\n",
      "8 is even\n",
      "9 is odd\n",
      "10 is even\n"
     ]
    }
   ],
   "source": [
    "for n in range(1, 11):\n",
    "    if np.remainder(n, 2) == 0:\n",
    "        print(n, \"is even\")\n",
    "    else:\n",
    "        print(n, \"is odd\")"
   ]
  },
  {
   "cell_type": "markdown",
   "id": "d78c2d23",
   "metadata": {},
   "source": [
    "Notice how the range function only counts to $10$ even though the range goes to $11$.  The endpoint is *never* part of the generated sequence when using ```range```.  If we wanted the ```range``` function to start at zero instead of one we could simply write ```range(11)```.  We can also make sequences that go in arbitrary steps:"
   ]
  },
  {
   "cell_type": "code",
   "execution_count": 55,
   "id": "630bccf0",
   "metadata": {
    "execution": {
     "iopub.execute_input": "2022-08-26T13:32:13.375308Z",
     "iopub.status.busy": "2022-08-26T13:32:13.375109Z",
     "iopub.status.idle": "2022-08-26T13:32:13.378123Z",
     "shell.execute_reply": "2022-08-26T13:32:13.377535Z"
    }
   },
   "outputs": [
    {
     "name": "stdout",
     "output_type": "stream",
     "text": [
      "0\n",
      "2\n",
      "4\n",
      "6\n",
      "8\n",
      "10\n"
     ]
    }
   ],
   "source": [
    "for n in range(0, 11, 2):\n",
    "    print(n)"
   ]
  },
  {
   "cell_type": "markdown",
   "id": "5d12609c",
   "metadata": {},
   "source": [
    "The ```range``` function does not return a list of integers but is something called a **generator**.  In general, the ```range``` function should only be used in combination with the ```for``` command."
   ]
  },
  {
   "cell_type": "markdown",
   "id": "63882333",
   "metadata": {},
   "source": [
    "### Example: Fibonacci Sequence"
   ]
  },
  {
   "cell_type": "markdown",
   "id": "ec413186",
   "metadata": {},
   "source": [
    "Let us follow the Python documentation and calculate the first ten numbers in the Fibonacci sequence:"
   ]
  },
  {
   "cell_type": "code",
   "execution_count": 56,
   "id": "563e93d1",
   "metadata": {
    "execution": {
     "iopub.execute_input": "2022-08-26T13:32:13.381007Z",
     "iopub.status.busy": "2022-08-26T13:32:13.380623Z",
     "iopub.status.idle": "2022-08-26T13:32:13.384126Z",
     "shell.execute_reply": "2022-08-26T13:32:13.383636Z"
    }
   },
   "outputs": [
    {
     "name": "stdout",
     "output_type": "stream",
     "text": [
      "[0, 1, 1, 2, 3, 5, 8, 13, 21, 34]\n"
     ]
    }
   ],
   "source": [
    "n = 10\n",
    "fib = [0, 1]\n",
    "for i in range(2, n):\n",
    "    fib.append(fib[i - 1] + fib[i - 2])\n",
    "print(fib)"
   ]
  },
  {
   "cell_type": "markdown",
   "id": "cc4b73ed",
   "metadata": {},
   "source": [
    "We can also write this using a ```while``` loop if we wanted to."
   ]
  },
  {
   "cell_type": "code",
   "execution_count": 57,
   "id": "6f4c2f50",
   "metadata": {
    "execution": {
     "iopub.execute_input": "2022-08-26T13:32:13.386453Z",
     "iopub.status.busy": "2022-08-26T13:32:13.386068Z",
     "iopub.status.idle": "2022-08-26T13:32:13.389541Z",
     "shell.execute_reply": "2022-08-26T13:32:13.389086Z"
    }
   },
   "outputs": [
    {
     "name": "stdout",
     "output_type": "stream",
     "text": [
      "[0, 1, 1, 2, 3, 5, 8, 13, 21, 34]\n"
     ]
    }
   ],
   "source": [
    "n = 2\n",
    "fib = [0, 1]\n",
    "while n < 10:\n",
    "    fib.append(fib[n - 1] + fib[n - 2])\n",
    "    n = n + 1\n",
    "print(fib)"
   ]
  },
  {
   "cell_type": "markdown",
   "id": "b4d6967c",
   "metadata": {},
   "source": [
    "## Writing Scripts and Functions"
   ]
  },
  {
   "cell_type": "markdown",
   "id": "dac2fb59",
   "metadata": {},
   "source": [
    "Up until now we have been running little code snippets but have not really been doing any real programming.  Recall that Python is a scripting language.  Therefore, most of the time, we want to write **scripts** that contain a collection of constants, variables, data structures, functions, comments, etc., that perform various complicated tasks. "
   ]
  },
  {
   "cell_type": "markdown",
   "id": "97710f43",
   "metadata": {},
   "source": [
    "###  Scripts"
   ]
  },
  {
   "cell_type": "markdown",
   "id": "3cd5889a",
   "metadata": {},
   "source": [
    "A Python script file is nothing but a text file containing Python code that ends with a **.py** extension.  Python scripts are also called Python **programs**.  If we open up any editor, then we are given a blank window that we can enter our Python commands in."
   ]
  },
  {
   "cell_type": "markdown",
   "id": "f191c8ba",
   "metadata": {},
   "source": [
    "Before we begin to write our scripts, lets first discuss the best format for writing your scripts."
   ]
  },
  {
   "cell_type": "code",
   "execution_count": 58,
   "id": "ebc5ae45",
   "metadata": {
    "execution": {
     "iopub.execute_input": "2022-08-26T13:32:13.391901Z",
     "iopub.status.busy": "2022-08-26T13:32:13.391411Z",
     "iopub.status.idle": "2022-08-26T13:32:13.395513Z",
     "shell.execute_reply": "2022-08-26T13:32:13.395051Z"
    }
   },
   "outputs": [
    {
     "name": "stdout",
     "output_type": "stream",
     "text": [
      "Series approximation: 0.7071067811796194\n",
      "Error: 6.928124740568364e-12\n"
     ]
    }
   ],
   "source": [
    "# This is an example script for the P461 class\n",
    "# Here we will calculate the series expansion\n",
    "# for sin(x) up to an arbitrary order N.\n",
    "#\n",
    "# Paul Nation, 02/03/2014\n",
    "\n",
    "N = 5  # The order of the series expansion\n",
    "x = np.pi / 4.0  # The point at which we want to evaluate sine\n",
    "\n",
    "ans = 0.0\n",
    "for k in range(N + 1):\n",
    "    ans = ans + (-1) ** k * x ** (1 + 2 * k) / factorial(1 + 2 * k)\n",
    "print(\"Series approximation:\", ans)\n",
    "print(\"Error:\", np.sin(x) - ans)"
   ]
  },
  {
   "cell_type": "markdown",
   "id": "a36836d2",
   "metadata": {},
   "source": [
    "We can see that the script has four main parts: First, we have a section of **comments** that describe what the script does and when it was created.  In python all comments start with the **```#```** symbol.  Everything after this symbol is ignored by the computer.  Second, we have the section of the scripts that load the necessary functions that we need from other packages.  Third is a section where we define all of the constants that are going to be used in the script. You should also add comments here that tell us what the constants are.  Finally, your main body of code goes after these sections."
   ]
  },
  {
   "cell_type": "markdown",
   "id": "f3d2b540",
   "metadata": {},
   "source": [
    "### Functions"
   ]
  },
  {
   "cell_type": "markdown",
   "id": "a788586c",
   "metadata": {},
   "source": [
    "We are finally in a position to look at one of the most important parts of any programming language **functions**.  Functions are blocks of code that accomplish a specific task. Functions usually take \"input arguments\", perform operations on these inputs, and then \"return\" one or more results. Functions can be used over and over again, and can also be \"called\" from the inside of other functions.  Let us rewrite our script for $sin(x)$ using a function and then describe each part."
   ]
  },
  {
   "cell_type": "code",
   "execution_count": 59,
   "id": "1f3364a4",
   "metadata": {
    "execution": {
     "iopub.execute_input": "2022-08-26T13:32:13.397996Z",
     "iopub.status.busy": "2022-08-26T13:32:13.397443Z",
     "iopub.status.idle": "2022-08-26T13:32:13.401684Z",
     "shell.execute_reply": "2022-08-26T13:32:13.401237Z"
    }
   },
   "outputs": [
    {
     "name": "stdout",
     "output_type": "stream",
     "text": [
      "Series approximation: 0.7071067811796194\n",
      "Error: 6.928124740568364e-12\n"
     ]
    }
   ],
   "source": [
    "N = 5  # The order of the series expansion\n",
    "x = np.pi / 4.0  # The point at which we want to evaluate sine\n",
    "\n",
    "\n",
    "def sine_series(x, N):\n",
    "    ans = 0.0\n",
    "    for k in range(N + 1):\n",
    "        ans = ans + (-1) ** k * x ** (1 + 2 * k) / factorial(1 + 2 * k)\n",
    "    return ans\n",
    "\n",
    "\n",
    "result = sine_series(x, N)\n",
    "print(\"Series approximation:\", result)\n",
    "print(\"Error:\", np.sin(x) - result)"
   ]
  },
  {
   "cell_type": "markdown",
   "id": "eec9914f",
   "metadata": {},
   "source": [
    "We see see that a function is created using the keyword ```def``` which is short \"define\", then the name of the function followed by the input arguments in parentheses.  After the block of code called by the function, the ```return``` keyword specifies what variable(s) and/or data structure(s) are given as the output.  So a general functions call is"
   ]
  },
  {
   "cell_type": "code",
   "execution_count": 60,
   "id": "fecc4c0c",
   "metadata": {
    "execution": {
     "iopub.execute_input": "2022-08-26T13:32:13.403933Z",
     "iopub.status.busy": "2022-08-26T13:32:13.403736Z",
     "iopub.status.idle": "2022-08-26T13:32:13.406496Z",
     "shell.execute_reply": "2022-08-26T13:32:13.405896Z"
    }
   },
   "outputs": [],
   "source": [
    "def function_name(arg1, arg2):\n",
    "    \"Block of code to run\"\n",
    "    \"...\"\n",
    "    return result"
   ]
  },
  {
   "cell_type": "markdown",
   "id": "78860910",
   "metadata": {},
   "source": [
    "Again, everything after the colon (:) that is inside the function must be indented.  The beauty of using functions is that we can use the same code over and over, just by changing the constants near the top of our Python script.\n",
    "\n",
    "Variables that are defined inside of a function are called **local variables** and only defined for the block of code inside of the function.  In our previous example, ```k``` was a local variable.  The input arguments and return arguments are *not* local variables.  Once a function is done running, the local variables are erased from memory.  Therefore, if you want get something out of a function, your must return the value when your done."
   ]
  },
  {
   "cell_type": "markdown",
   "id": "e6250506",
   "metadata": {},
   "source": [
    "If we want to return more than one thing at the end of the function then we just need to separate the different items by a comma."
   ]
  },
  {
   "cell_type": "code",
   "execution_count": 61,
   "id": "0dda9e07",
   "metadata": {
    "execution": {
     "iopub.execute_input": "2022-08-26T13:32:13.409007Z",
     "iopub.status.busy": "2022-08-26T13:32:13.408501Z",
     "iopub.status.idle": "2022-08-26T13:32:13.512709Z",
     "shell.execute_reply": "2022-08-26T13:32:13.512155Z"
    }
   },
   "outputs": [
    {
     "data": {
      "image/png": "[encoded data removed]",
      "text/plain": [
       "<Figure size 640x480 with 1 Axes>"
      ]
     },
     "metadata": {},
     "output_type": "display_data"
    }
   ],
   "source": [
    "N = 100  # Number of points to generate\n",
    "\n",
    "\n",
    "def random_coordinates(N):\n",
    "    x_coords = []\n",
    "    y_coords = []\n",
    "    for n in range(N):\n",
    "        xnew, ynew = np.random.random(2)\n",
    "        x_coords.append(xnew)\n",
    "        y_coords.append(ynew)\n",
    "    return x_coords, y_coords\n",
    "\n",
    "\n",
    "xc, yc = random_coordinates(N)\n",
    "plt.plot(xc, yc, \"ro\", markersize=8)\n",
    "plt.show()"
   ]
  },
  {
   "cell_type": "code",
   "execution_count": 62,
   "id": "1da3894f",
   "metadata": {
    "execution": {
     "iopub.execute_input": "2022-08-26T13:32:13.515562Z",
     "iopub.status.busy": "2022-08-26T13:32:13.515354Z",
     "iopub.status.idle": "2022-08-26T13:32:13.616848Z",
     "shell.execute_reply": "2022-08-26T13:32:13.616300Z"
    }
   },
   "outputs": [
    {
     "data": {
      "image/png": "[encoded data removed]",
      "text/plain": [
       "<Figure size 640x480 with 1 Axes>"
      ]
     },
     "metadata": {},
     "output_type": "display_data"
    }
   ],
   "source": [
    "N = 20  # Number of points to generate\n",
    "\n",
    "\n",
    "def random_coordinates(N):\n",
    "    x_coords = []\n",
    "    y_coords = []\n",
    "    for n in range(N):\n",
    "        xnew, ynew = np.random.random(2)\n",
    "        x_coords.append(xnew)\n",
    "        y_coords.append(ynew)\n",
    "    return x_coords, y_coords\n",
    "\n",
    "\n",
    "def dist2d(x1, y1, x2, y2):\n",
    "    return np.sqrt((x1 - x2) ** 2 + (y1 - y2) ** 2)\n",
    "\n",
    "\n",
    "def max_dist(xc, yc):\n",
    "    max_dist = 0.0\n",
    "    num_points = len(xc)\n",
    "    for ii in range(num_points):\n",
    "        for jj in range(num_points):\n",
    "            dist = dist2d(xc[ii], yc[ii], xc[jj], yc[jj])\n",
    "            if dist > max_dist:\n",
    "                max_dist = dist\n",
    "                xvals = [xc[ii], xc[jj]]\n",
    "                yvals = [yc[ii], yc[jj]]\n",
    "    return max_dist, xvals, yvals\n",
    "\n",
    "\n",
    "xc, yc = random_coordinates(N)\n",
    "max_dist, pnt1, pnt2 = max_dist(xc, yc)\n",
    "plt.plot(xc, yc, \"ro\", markersize=8)\n",
    "plt.plot(pnt1, pnt2, \"b-\", lw=2)\n",
    "plt.show()"
   ]
  },
  {
   "cell_type": "markdown",
   "id": "f203c321",
   "metadata": {},
   "source": [
    "Obvious this last example is more complex, and in particular, it is hard to understand what the functions.  Even for your own functions, you may often forget what your functions do unless you provide some documentation and comments in your scripts.  Here we will see how to properly document a function in Python by looking at the ```max_dist``` function:"
   ]
  },
  {
   "cell_type": "code",
   "execution_count": 63,
   "id": "12f04f4e",
   "metadata": {
    "execution": {
     "iopub.execute_input": "2022-08-26T13:32:13.619970Z",
     "iopub.status.busy": "2022-08-26T13:32:13.619753Z",
     "iopub.status.idle": "2022-08-26T13:32:13.624915Z",
     "shell.execute_reply": "2022-08-26T13:32:13.624391Z"
    }
   },
   "outputs": [],
   "source": [
    "def max_dist(xc, yc):\n",
    "    \"\"\"\n",
    "    Finds the maximum distance between any two points\n",
    "    in a collection of 2D points.  The points corresponding\n",
    "    to this distance are also returned.\n",
    "\n",
    "    Parameters\n",
    "    ----------\n",
    "    xc : list\n",
    "        List of x-coordinates\n",
    "    yc : list\n",
    "        List of y-coordinates\n",
    "\n",
    "    Returns\n",
    "    -------\n",
    "    max_dist : float\n",
    "        Maximum distance\n",
    "    xvals : list\n",
    "        x-coodinates of two points\n",
    "    yvals : list\n",
    "        y-coordinates of two points\n",
    "\n",
    "    \"\"\"\n",
    "    max_dist = 0.0  # initialize max_dist\n",
    "    num_points = len(xc)  # number of points in collection\n",
    "    for ii in range(num_points):\n",
    "        for jj in range(num_points):\n",
    "            dist = dist2d(xc[ii], yc[ii], xc[jj], yc[jj])\n",
    "            if dist > max_dist:\n",
    "                max_dist = dist\n",
    "                xvals = [xc[ii], xc[jj]]\n",
    "                yvals = [yc[ii], yc[jj]]\n",
    "    return max_dist, xvals, yvals"
   ]
  },
  {
   "cell_type": "markdown",
   "id": "09168295",
   "metadata": {},
   "source": [
    "Everything inbetween the ```\"\"\"...\"\"\"``` is called a **docstring** and it gives a tells someone who is not familiar with a partiular functions a detailed explaination as to what the function does, what parameters it takes as inputs, and what values it returns.  It is also good practice to put some comments next to your local variables so the user knows what each of these is for. Although it seems like a lot of work at first, writing docstrings will make you a much better programmer in the future."
   ]
  },
  {
   "cell_type": "markdown",
   "id": "1090c798",
   "metadata": {},
   "source": [
    "<h1 align=\"center\">End of Tutorial</h1> \n",
    "<h3 align=\"center\"><a href=\"http://qutip.org/tutorials.html\">Return to QuTiP tutorials page</a></h3> "
   ]
  }
 ],
 "metadata": {
  "jupytext": {
   "cell_metadata_filter": "-all",
   "notebook_metadata_filter": "-jupytext.cell_metadata_filter,-jupytext.notebook_metadata_filter"
  },
  "kernelspec": {
   "display_name": "Python 3 (ipykernel)",
   "language": "python",
   "name": "python3"
  },
  "language_info": {
   "codemirror_mode": {
    "name": "ipython",
    "version": 3
   },
   "file_extension": ".py",
   "mimetype": "text/x-python",
   "name": "python",
   "nbconvert_exporter": "python",
   "pygments_lexer": "ipython3",
   "version": "3.10.4"
  }
 },
 "nbformat": 4,
 "nbformat_minor": 5
}
